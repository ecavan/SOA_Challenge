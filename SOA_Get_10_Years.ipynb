{
 "cells": [
  {
   "cell_type": "markdown",
   "metadata": {},
   "source": [
    "# Load Data"
   ]
  },
  {
   "cell_type": "code",
   "execution_count": 66,
   "metadata": {
    "collapsed": true
   },
   "outputs": [],
   "source": [
    "import pandas as pd\n",
    "import names\n",
    "from sklearn.neural_network import MLPClassifier\n",
    "from sklearn.model_selection import train_test_split\n",
    "from sklearn.linear_model import LogisticRegression\n",
    "from sklearn import preprocessing\n",
    "import random\n",
    "from pyqubo import Constraint, Array\n",
    "import neal\n",
    "from dwave.system import LeapHybridSampler\n",
    "import numpy as np\n",
    "from collections import Counter\n",
    "import matplotlib.pyplot as plt\n",
    "import sqlite3\n",
    "import statsmodels.api as sm\n",
    "import statsmodels.formula.api as smf\n",
    "plt.rcParams[\"figure.figsize\"] = (25,8)\n",
    "\n",
    "import warnings\n",
    "warnings.filterwarnings('ignore')\n",
    "plt.rcParams[\"figure.figsize\"] = (25,10)\n",
    "plt.rcParams.update({'font.size': 22})"
   ]
  },
  {
   "cell_type": "code",
   "execution_count": 67,
   "metadata": {
    "collapsed": true
   },
   "outputs": [],
   "source": [
    "l20 = pd.read_csv('League_df_2020.csv')\n",
    "l21 = pd.read_csv('League_df_2021.csv')\n",
    "t20 = pd.read_csv('Tournament_df_2020.csv')\n",
    "t21 = pd.read_csv('Tournament_df_2021.csv')\n",
    "\n",
    "sal_21 = pd.read_excel('2022-student-research-case-study-player-data.xlsx', \"2021 Salaries\")[11:].dropna(axis=1)\n",
    "sal_21.columns = ['Player', 'Leagues', 'Squads', 'Nations', 'Positions', 'Salary']\n",
    "\n",
    "sal_21.Player = sal_21.Player.str.replace('.', '').str.replace(' ','').str.replace('?','')\n",
    "sal_21 = sal_21.drop(['Squads', 'Positions', 'Leagues'], axis=1)\n",
    "\n",
    "sal_20 = pd.read_excel('2022-student-research-case-study-player-data.xlsx', \"2020 Salaries\")[11:].dropna(axis=1)\n",
    "sal_20.columns = ['Player', 'Leagues', 'Squads', 'Nations', 'Positions', 'Salary']\n",
    "\n",
    "sal_20.Player = sal_20.Player.str.replace('.', '').str.replace(' ','').str.replace('?','')\n",
    "sal_20 = sal_20.drop(['Squads', 'Positions', 'Leagues'], axis=1)"
   ]
  },
  {
   "cell_type": "code",
   "execution_count": 68,
   "metadata": {
    "collapsed": true
   },
   "outputs": [],
   "source": [
    "def fix_data_league(alice1):\n",
    "    \n",
    "    alice1[[\"Age\", \"Born\", \"Year.x\"]] = alice1[[\"Age\", \"Born\", \"Year.x\"]].astype(str) \n",
    "\n",
    "    alice1['Nations'] = alice1['Nations'].apply(lambda x: x.split(',')[1] if str.__contains__(x, ',') else x)\n",
    "    alice1['Positions'] = alice1['Positions'].apply(lambda x: x.split(',')[1] if str.__contains__(x, ',') else x)\n",
    "    alice1['Leagues'] = alice1['Leagues'].apply(lambda x: x.split(',')[1] if str.__contains__(x, ',') else x)\n",
    "    alice1['Squads'] = alice1['Squads'].apply(lambda x: x.split(',')[1] if str.__contains__(x, ',') else x)\n",
    "    alice1['Age'] = alice1['Age'].apply(lambda x: x.split(',')[1] if str.__contains__(x, ',') else x)\n",
    "    alice1['Born'] = alice1['Born'].apply(lambda x: x.split(',')[1] if str.__contains__(x, ',') else x)\n",
    "    alice1['Year.x'] = alice1['Year.x'].apply(lambda x: x.split(',')[1] if str.__contains__(x, ',') else x)\n",
    "    alice1['Year'] = alice1['Year.x']\n",
    "    \n",
    "    alice1 = alice1.drop(['Year.x', 'Year.y'], axis=1)\n",
    "    \n",
    "    return alice1\n",
    "\n",
    "def fix_data_tourn(alice1):\n",
    "    alice1[[\"Age\", \"Born\", \"Year\"]] = alice1[[\"Age\", \"Born\", \"Year\"]].astype(str) \n",
    "\n",
    "    alice1['Nations'] = alice1['Nations'].apply(lambda x: x.split(',')[1] if str.__contains__(x, ',') else x)\n",
    "    alice1['Positions'] = alice1['Positions'].apply(lambda x: x.split(',')[1] if str.__contains__(x, ',') else x)\n",
    "    alice1['Leagues'] = alice1['Leagues'].apply(lambda x: x.split(',')[1] if str.__contains__(x, ',') else x)\n",
    "    alice1['Age'] = alice1['Age'].apply(lambda x: x.split(',')[1] if str.__contains__(x, ',') else x)\n",
    "    alice1['Born'] = alice1['Born'].apply(lambda x: x.split(',')[1] if str.__contains__(x, ',') else x)\n",
    "    alice1['Year'] = alice1['Year'].apply(lambda x: x.split(',')[1] if str.__contains__(x, ',') else x)\n",
    "\n",
    "\n",
    "    return alice1\n",
    "\n",
    "l20 = fix_data_league(l20)\n",
    "l21 = fix_data_league(l21)\n",
    "t20 = fix_data_tourn(t20)\n",
    "t21 = fix_data_tourn(t21)\n",
    "\n",
    "league2 = sal_21.sort_values('Player').drop_duplicates('Player', keep = 'last').merge(l21)\n",
    "tourn2 = t21.merge(sal_21, on = ['Player', \"Nations\"], how='left')\n",
    "league1 = sal_20.sort_values('Player').drop_duplicates('Player', keep = 'last').merge(l20)\n",
    "tourn1 = t20.merge(sal_20, on = ['Player', \"Nations\"], how='left')\n",
    "\n",
    "tourn1.Salary = tourn1.Salary.fillna(0)\n",
    "tourn2.Salary = tourn2.Salary.fillna(0)"
   ]
  },
  {
   "cell_type": "code",
   "execution_count": 69,
   "metadata": {
    "collapsed": true
   },
   "outputs": [],
   "source": [
    "##correlation plot##\n",
    "\n",
    "# p1 = league2[['Playing Time MP_Goalkeeping',\n",
    "#        'Playing Time Starts_Goalkeeping', 'Playing Time Min_Goalkeeping',\n",
    "#        'Playing Time 90s_Goalkeeping', 'Performance GA_Goalkeeping',\n",
    "#        'Performance GA90_Goalkeeping', 'Performance SoTA_Goalkeeping',\n",
    "#        'Performance Saves_Goalkeeping', 'Performance Save%_Goalkeeping',\n",
    "#        'W_Goalkeeping', 'D_Goalkeeping', 'L_Goalkeeping',\n",
    "#        'Performance CS_Goalkeeping', 'Performance CS%_Goalkeeping',\n",
    "#        'Performance PKatt_Goalkeeping', 'Penalty Kicks PKA_Goalkeeping',\n",
    "#        'Penalty Kicks PKsv_Goalkeeping', 'Penalty Kicks PKm_Goalkeeping',\n",
    "#        'Penalty Kicks Save%_Goalkeeping']].corr().abs()\n",
    "\n",
    "# matrix = np.triu(p1)\n",
    "# sns.heatmap(p1, \n",
    "#             xticklabels=p1.columns.values,\n",
    "#             yticklabels=p1.columns.values, annot=True, mask=matrix)\n",
    "# plt.show()"
   ]
  },
  {
   "cell_type": "code",
   "execution_count": 70,
   "metadata": {
    "collapsed": true
   },
   "outputs": [],
   "source": [
    "# def adjust_stats_by_league(league2):\n",
    "    \n",
    "#     gb1 = league2.groupby('Player').max()\n",
    "#     gb2 = league2.groupby('Player').min()\n",
    "\n",
    "#     df_roster = pd.DataFrame()\n",
    "\n",
    "#     for i in league2.Positions.unique():\n",
    "\n",
    "#         gb1_i = gb1.loc[i]\n",
    "#         gb2_i = gb2.loc[i]\n",
    "#         league2_i = league2[league2.Positions == i]\n",
    "\n",
    "#         num_cols = ['90s_Shooting', 'Gls_Shooting', 'Standard Sh_Shooting',\n",
    "#            'Standard SoT_Shooting', 'Standard SoT%_Shooting',\n",
    "#            'Standard Sh/90_Shooting', 'Standard SoT/90_Shooting',\n",
    "#            'Standard G/Sh_Shooting', 'Standard G/SoT_Shooting',\n",
    "#            'Standard Dist_Shooting', 'Standard FK_Shooting',\n",
    "#            'Performance PK_Shooting', 'Performance PKatt_Shooting',\n",
    "#            'Expected xG_Shooting', 'Expected npxG_Shooting',\n",
    "#            'Expected npxG/Sh_Shooting', 'Expected G-xG_Shooting',\n",
    "#            'Expected np:G-xG_Shooting', '90s_Passing', 'Total Cmp_Passing',\n",
    "#            'Total Att_Passing', 'Total Cmp%_Passing', 'Total TotDist_Passing',\n",
    "#            'Total PrgDist_Passing', 'Short Cmp_Passing', 'Short Att_Passing',\n",
    "#            'Short Cmp%_Passing', 'Medium Cmp_Passing', 'Medium Att_Passing',\n",
    "#            'Medium Cmp%_Passing', 'Long Cmp_Passing', 'Long Att_Passing',\n",
    "#            'Long Cmp%_Passing', 'Ast_Passing', 'xA_Passing', 'A-xA_Passing',\n",
    "#            'KP_Passing', '1/3_Passing', 'PPA_Passing', 'CrsPA_Passing',\n",
    "#            'Prog_Passing', '90s_Defense', 'Tackles Tkl_Defense',\n",
    "#            'Tackles TklW_Defense', 'Tackles Def 3rd_Defense',\n",
    "#            'Tackles Mid 3rd_Defense', 'Tackles Att 3rd_Defense',\n",
    "#            'Vs Dribbles Tkl_Defense', 'Vs Dribbles Att_Defense',\n",
    "#            'Vs Dribbles Tkl%_Defense', 'Vs Dribbles Past_Defense',\n",
    "#            'Pressures Press_Defense', 'Pressures Succ_Defense',\n",
    "#            'Pressures %_Defense', 'Pressures Def 3rd_Defense',\n",
    "#            'Pressures Mid 3rd_Defense', 'Pressures Att 3rd_Defense',\n",
    "#            'Blocks Blocks_Defense', 'Blocks Sh_Defense', 'Blocks ShSv_Defense',\n",
    "#            'Blocks Pass_Defense', 'Int_Defense', 'Tkl+Int_Defense', 'Clr_Defense',\n",
    "#            'Err_Defense', 'Playing Time MP_Goalkeeping',\n",
    "#            'Playing Time Starts_Goalkeeping', 'Playing Time Min_Goalkeeping',\n",
    "#            'Playing Time 90s_Goalkeeping', 'Performance GA_Goalkeeping',\n",
    "#            'Performance GA90_Goalkeeping', 'Performance SoTA_Goalkeeping',\n",
    "#            'Performance Saves_Goalkeeping', 'Performance Save%_Goalkeeping',\n",
    "#            'W_Goalkeeping', 'D_Goalkeeping', 'L_Goalkeeping',\n",
    "#            'Performance CS_Goalkeeping', 'Performance CS%_Goalkeeping',\n",
    "#            'Performance PKatt_Goalkeeping', 'Penalty Kicks PKA_Goalkeeping',\n",
    "#            'Penalty Kicks PKsv_Goalkeeping', 'Penalty Kicks PKm_Goalkeeping',\n",
    "#            'Penalty Kicks Save%_Goalkeeping']\n",
    "\n",
    "#         for j in num_cols:\n",
    "\n",
    "#             league2_i[j] = (league2_i[j] - gb2_i[j])/(gb1_i[j] - gb2_i[j])\n",
    "\n",
    "#         df_roster = pd.concat([df_roster,league2_i])\n",
    "\n",
    "#     return df_roster\n",
    "\n",
    "# league2 = adjust_stats_by_league(league2)\n",
    "# league1 = adjust_stats_by_league(league1)"
   ]
  },
  {
   "cell_type": "markdown",
   "metadata": {},
   "source": [
    "# Get Player Ratings"
   ]
  },
  {
   "cell_type": "code",
   "execution_count": 71,
   "metadata": {
    "collapsed": true
   },
   "outputs": [],
   "source": [
    "# def get_player_ratings(df):\n",
    "    \n",
    "# #     df['shot_accuracy'] = np.mean(df[['90s_Shooting','Standard SoT_Shooting', 'Standard SoT%_Shooting',\n",
    "# #        'Standard Sh/90_Shooting', 'Standard SoT/90_Shooting']].rank(pct=True,numeric_only=True), axis=1)*100\n",
    "    \n",
    "# #     df['finishing'] = np.mean(df[['90s_Shooting','Gls_Shooting',\n",
    "# #       'Standard G/Sh_Shooting', 'Standard G/SoT_Shooting']].rank(pct=True,numeric_only=True), axis=1)*100\n",
    "    \n",
    "    \n",
    "# #     df['shot_power'] = np.mean(df[['90s_Shooting','Standard Dist_Shooting', 'Standard Sh_Shooting']].rank(pct=True,numeric_only=True), axis=1)*100\n",
    "\n",
    "# #     df['dangerous_rate'] = np.mean(df[['90s_Shooting','Expected xG_Shooting', 'Expected npxG_Shooting',\n",
    "# #        'Expected npxG/Sh_Shooting', 'Expected G-xG_Shooting',\n",
    "# #        'Expected np:G-xG_Shooting']].rank(pct=True,numeric_only=True), axis=1)*100\n",
    "    \n",
    "#     df['overall_fwd'] = np.mean(df[['90s_Shooting', 'Gls_Shooting',\n",
    "#        'Standard Sh_Shooting', 'Standard SoT_Shooting',\n",
    "#        'Standard SoT%_Shooting', 'Standard Sh/90_Shooting',\n",
    "#        'Standard SoT/90_Shooting', 'Standard G/Sh_Shooting',\n",
    "#        'Standard G/SoT_Shooting', 'Standard Dist_Shooting',\n",
    "#        'Standard FK_Shooting', 'Performance PK_Shooting',\n",
    "#        'Performance PKatt_Shooting', 'Expected xG_Shooting',\n",
    "#        'Expected npxG_Shooting', 'Expected npxG/Sh_Shooting',\n",
    "#        'Expected G-xG_Shooting', 'Expected np:G-xG_Shooting' ]].rank(pct=True,numeric_only=True), axis=1)*100\n",
    "    \n",
    "# #     df['long_pass'] = np.mean(df[['90s_Passing','Long Cmp_Passing', 'Long Att_Passing',\n",
    "# #        'Long Cmp%_Passing', 'CrsPA_Passing', 'Total TotDist_Passing',\n",
    "# #        'Total PrgDist_Passing', 'Prog_Passing']].rank(pct=True,numeric_only=True), axis=1)*100\n",
    "    \n",
    "# #     df['short_pass'] = np.mean(df[['90s_Passing','Total Cmp_Passing',\n",
    "# #        'Total Att_Passing', 'Total Cmp%_Passing', 'Short Cmp_Passing', 'Short Att_Passing',\n",
    "# #        'Short Cmp%_Passing', 'Medium Cmp_Passing', 'Medium Att_Passing',\n",
    "# #        'Medium Cmp%_Passing' ]].rank(pct=True,numeric_only=True), axis=1)*100\n",
    "    \n",
    "# #     df['playmaking'] = np.mean(df[['90s_Passing','Ast_Passing', 'xA_Passing', 'A-xA_Passing',\n",
    "# #        'KP_Passing', '1/3_Passing', 'PPA_Passing']].rank(pct=True,numeric_only=True), axis=1)*100\n",
    "    \n",
    "#     df['overall_mid'] = np.mean(df[['90s_Passing',\n",
    "#        'Total Cmp_Passing', 'Total Att_Passing', 'Total Cmp%_Passing',\n",
    "#        'Total TotDist_Passing', 'Total PrgDist_Passing', 'Short Cmp_Passing',\n",
    "#        'Short Att_Passing', 'Short Cmp%_Passing', 'Medium Cmp_Passing',\n",
    "#        'Medium Att_Passing', 'Medium Cmp%_Passing', 'Long Cmp_Passing',\n",
    "#        'Long Att_Passing', 'Long Cmp%_Passing', 'Ast_Passing', 'xA_Passing',\n",
    "#        'A-xA_Passing', 'KP_Passing', '1/3_Passing', 'PPA_Passing',\n",
    "#        'CrsPA_Passing', 'Prog_Passing']].rank(pct=True,numeric_only=True), axis=1)*100\n",
    "\n",
    "    \n",
    "# #     df['error_rate'] = np.mean(df[['90s_Defense','Vs Dribbles Past_Defense', 'Err_Defense' ]].rank(pct=True,numeric_only=True), axis=1)*100\n",
    "    \n",
    "# #     df['good_error_rate'] = 100 - df['error_rate']\n",
    "    \n",
    "# #     df['tackling'] = np.mean(df[['90s_Defense','Tackles Tkl_Defense',\n",
    "# #        'Tackles TklW_Defense', 'Tackles Def 3rd_Defense',\n",
    "# #        'Tackles Mid 3rd_Defense', 'Tackles Att 3rd_Defense',\n",
    "# #        'Vs Dribbles Tkl_Defense', 'Vs Dribbles Att_Defense',\n",
    "# #        'Vs Dribbles Tkl%_Defense',\n",
    "# #        'Pressures Press_Defense', 'Pressures Succ_Defense',\n",
    "# #        'Pressures %_Defense', 'Pressures Def 3rd_Defense',\n",
    "# #        'Pressures Mid 3rd_Defense', 'Pressures Att 3rd_Defense']].rank(pct=True,numeric_only=True), axis=1)*100\n",
    "    \n",
    "# #     df['awwareness'] = np.mean(df[['90s_Defense','Blocks Blocks_Defense', 'Blocks Sh_Defense', 'Blocks ShSv_Defense',\n",
    "# #        'Blocks Pass_Defense', 'Int_Defense', 'Tkl+Int_Defense', 'Clr_Defense']].rank(pct=True,numeric_only=True), axis=1)*100\n",
    "    \n",
    "    \n",
    "#     df['overall_def'] = np.mean(df[['90s_Defense', 'Tackles Tkl_Defense',\n",
    "#        'Tackles TklW_Defense', 'Tackles Def 3rd_Defense',\n",
    "#        'Tackles Mid 3rd_Defense', 'Tackles Att 3rd_Defense',\n",
    "#        'Vs Dribbles Tkl_Defense', 'Vs Dribbles Att_Defense',\n",
    "#        'Vs Dribbles Tkl%_Defense', 'Vs Dribbles Past_Defense',\n",
    "#        'Pressures Press_Defense', 'Pressures Succ_Defense',\n",
    "#        'Pressures %_Defense', 'Pressures Def 3rd_Defense',\n",
    "#        'Pressures Mid 3rd_Defense', 'Pressures Att 3rd_Defense',\n",
    "#        'Blocks Blocks_Defense', 'Blocks Sh_Defense', 'Blocks ShSv_Defense',\n",
    "#        'Blocks Pass_Defense', 'Int_Defense', 'Tkl+Int_Defense', 'Clr_Defense',\n",
    "#        'Err_Defense']].rank(pct=True,numeric_only=True), axis=1)*100\n",
    "    \n",
    "    \n",
    "#     df['gk'] = np.mean(df[['Playing Time MP_Goalkeeping',\n",
    "#        'Playing Time Starts_Goalkeeping', 'Playing Time Min_Goalkeeping',\n",
    "#        'Playing Time 90s_Goalkeeping', 'Performance GA_Goalkeeping',\n",
    "#        'Performance GA90_Goalkeeping', 'Performance SoTA_Goalkeeping',\n",
    "#        'Performance Saves_Goalkeeping', 'Performance Save%_Goalkeeping',\n",
    "#        'W_Goalkeeping', 'D_Goalkeeping', 'L_Goalkeeping',\n",
    "#        'Performance CS_Goalkeeping', 'Performance CS%_Goalkeeping',\n",
    "#        'Performance PKatt_Goalkeeping', 'Penalty Kicks PKA_Goalkeeping',\n",
    "#        'Penalty Kicks PKsv_Goalkeeping', 'Penalty Kicks PKm_Goalkeeping',\n",
    "#        'Penalty Kicks Save%_Goalkeeping']].rank(pct=True,numeric_only=True), axis=1)*100\n",
    "    \n",
    "# #     df = df.drop(['90s_Shooting', 'Gls_Shooting', 'Standard Sh_Shooting',\n",
    "# #        'Standard SoT_Shooting', 'Standard SoT%_Shooting',\n",
    "# #        'Standard Sh/90_Shooting', 'Standard SoT/90_Shooting',\n",
    "# #        'Standard G/Sh_Shooting', 'Standard G/SoT_Shooting',\n",
    "# #        'Standard Dist_Shooting', 'Performance PK_Shooting',\n",
    "# #        'Performance PKatt_Shooting', 'Standard FK_Shooting',\n",
    "# #        'Expected xG_Shooting', 'Expected npxG_Shooting',\n",
    "# #        'Expected npxG/Sh_Shooting', 'Expected G-xG_Shooting',\n",
    "# #        'Expected np:G-xG_Shooting', '90s_Passing', 'Total Cmp_Passing',\n",
    "# #        'Total Att_Passing', 'Total Cmp%_Passing', 'Total TotDist_Passing',\n",
    "# #        'Total PrgDist_Passing', 'Short Cmp_Passing', 'Short Att_Passing',\n",
    "# #        'Short Cmp%_Passing', 'Medium Cmp_Passing', 'Medium Att_Passing',\n",
    "# #        'Medium Cmp%_Passing', 'Long Cmp_Passing', 'Long Att_Passing',\n",
    "# #        'Long Cmp%_Passing', 'Ast_Passing', 'xA_Passing', 'A-xA_Passing',\n",
    "# #        'KP_Passing', '1/3_Passing', 'PPA_Passing', 'CrsPA_Passing',\n",
    "# #        'Prog_Passing', '90s_Defense', 'Tackles Tkl_Defense',\n",
    "# #        'Tackles TklW_Defense', 'Tackles Def 3rd_Defense',\n",
    "# #        'Tackles Mid 3rd_Defense', 'Tackles Att 3rd_Defense',\n",
    "# #        'Vs Dribbles Tkl_Defense', 'Vs Dribbles Att_Defense',\n",
    "# #        'Vs Dribbles Tkl%_Defense', 'Vs Dribbles Past_Defense',\n",
    "# #        'Pressures Press_Defense', 'Pressures Succ_Defense',\n",
    "# #        'Pressures %_Defense', 'Pressures Def 3rd_Defense',\n",
    "# #        'Pressures Mid 3rd_Defense', 'Pressures Att 3rd_Defense',\n",
    "# #        'Blocks Blocks_Defense', 'Blocks Sh_Defense', 'Blocks ShSv_Defense',\n",
    "# #        'Blocks Pass_Defense', 'Int_Defense', 'Tkl+Int_Defense', 'Clr_Defense',\n",
    "# #        'Err_Defense', 'Playing Time MP_Goalkeeping',\n",
    "# #        'Playing Time Starts_Goalkeeping', 'Playing Time Min_Goalkeeping',\n",
    "# #        'Playing Time 90s_Goalkeeping', 'Performance GA_Goalkeeping',\n",
    "# #        'Performance GA90_Goalkeeping', 'Performance SoTA_Goalkeeping',\n",
    "# #        'Performance Saves_Goalkeeping', 'Performance Save%_Goalkeeping',\n",
    "# #        'W_Goalkeeping', 'D_Goalkeeping', 'L_Goalkeeping',\n",
    "# #        'Performance CS_Goalkeeping', 'Performance CS%_Goalkeeping',\n",
    "# #        'Performance PKatt_Goalkeeping', 'Penalty Kicks PKA_Goalkeeping',\n",
    "# #        'Penalty Kicks PKsv_Goalkeeping', 'Penalty Kicks PKm_Goalkeeping',\n",
    "# #        'Penalty Kicks Save%_Goalkeeping', 'Unnamed: 0', 'Born'], axis=1)\n",
    "    \n",
    "#     return df\n",
    "    \n",
    "# tourn1 = get_player_ratings(tourn1)\n",
    "# league1 = get_player_ratings(league1)\n",
    "# tourn2 = get_player_ratings(tourn2)\n",
    "# league2 = get_player_ratings(league2)\n",
    "\n",
    "league = pd.concat([league1, league2], axis=0)\n",
    "tourn = pd.concat([tourn1, tourn2], axis=0)\n",
    "\n",
    "league = pd.concat([league, tourn], axis=0).drop_duplicates(['Player', 'Year'], keep = 'first')"
   ]
  },
  {
   "cell_type": "markdown",
   "metadata": {},
   "source": [
    "# Get Best Position"
   ]
  },
  {
   "cell_type": "code",
   "execution_count": 72,
   "metadata": {
    "collapsed": true
   },
   "outputs": [],
   "source": [
    "# def get_pos(df):\n",
    "    \n",
    "#     fwds = ['FW', 'FWMF', 'FWDF', 'MFFW', 'DFFW']\n",
    "#     mids = [ 'MF', 'MFFW', 'GKMF', 'MFGK', 'MFDF', 'DFMF']\n",
    "#     d = ['DF', 'DFFW', 'DFMF', 'MFDF', 'FWDF']\n",
    "#     gk = ['GK', 'GKMF',  'MFGK']\n",
    "    \n",
    "#     df.loc[(df.overall_fwd >= df.overall_mid) & (df.overall_fwd >= df.overall_def), \"Pos\"] = \"F\"\n",
    "#     df.loc[(df.overall_mid >= df.overall_fwd) & (df.overall_mid >= df.overall_def), \"Pos\"] = \"M\"\n",
    "#     df.loc[(df.overall_def >= df.overall_mid) & (df.overall_def >= df.overall_fwd), \"Pos\"] = \"D\"\n",
    "#     df.loc[(df.Positions.isin(gk)) & (df.gk >= df.overall_mid) & (df.gk >= df.overall_def) & (df.gk >= df.overall_fwd), \"Pos\"] = \"G\"\n",
    "#     league.Squads = league.Squads.fillna('Tournament')\n",
    "#     league.Leagues = league.Leagues.fillna('Tournament')\n",
    "#     return df\n",
    "    \n",
    "    \n",
    "# #tourn = get_pos(tourn)\n",
    "# league = get_pos(league) \n",
    "# league.gk = league.gk.fillna(0)\n",
    "\n",
    "# def get_ovr(league):\n",
    "#     league.loc[league.Pos == 'M', 'Ovr'] = 0.7*league.loc[league.Pos == 'M']['overall_mid'] + 0.3*league.loc[league.Pos == 'M']['overall_fwd']\n",
    "#     league.loc[league.Pos == 'F', 'Ovr'] = 0.8*league.loc[league.Pos == 'F']['overall_fwd'] + 0.2*league.loc[league.Pos == 'F']['overall_mid']\n",
    "#     league.loc[league.Pos == 'D', 'Ovr'] = 0.8*league.loc[league.Pos == 'D']['overall_def'] + 0.2*league.loc[league.Pos == 'D']['overall_mid']\n",
    "#     league.loc[league.Pos == 'G', 'Ovr'] = league.loc[league.Pos == 'G']['gk']\n",
    "#     league.Squads = league.Squads.fillna('Tournament')\n",
    "#     league.Leagues = league.Leagues.fillna('Tournament')\n",
    "#     return league\n",
    "\n",
    "# league = get_ovr(league)"
   ]
  },
  {
   "cell_type": "code",
   "execution_count": 73,
   "metadata": {
    "collapsed": true
   },
   "outputs": [],
   "source": [
    "league.Year = league.Year.astype(str)"
   ]
  },
  {
   "cell_type": "code",
   "execution_count": 74,
   "metadata": {},
   "outputs": [
    {
     "data": {
      "text/plain": [
       "Index(['Player', 'Nations', 'Salary', 'Unnamed: 0', 'Squads', 'Positions',\n",
       "       'Leagues', 'Age', 'Born', '90s_Shooting', 'Gls_Shooting',\n",
       "       'Standard Sh_Shooting', 'Standard SoT_Shooting',\n",
       "       'Standard SoT%_Shooting', 'Standard Sh/90_Shooting',\n",
       "       'Standard SoT/90_Shooting', 'Standard G/Sh_Shooting',\n",
       "       'Standard G/SoT_Shooting', 'Standard Dist_Shooting',\n",
       "       'Standard FK_Shooting', 'Performance PK_Shooting',\n",
       "       'Performance PKatt_Shooting', 'Expected xG_Shooting',\n",
       "       'Expected npxG_Shooting', 'Expected npxG/Sh_Shooting',\n",
       "       'Expected G-xG_Shooting', 'Expected np:G-xG_Shooting', '90s_Passing',\n",
       "       'Total Cmp_Passing', 'Total Att_Passing', 'Total Cmp%_Passing',\n",
       "       'Total TotDist_Passing', 'Total PrgDist_Passing', 'Short Cmp_Passing',\n",
       "       'Short Att_Passing', 'Short Cmp%_Passing', 'Medium Cmp_Passing',\n",
       "       'Medium Att_Passing', 'Medium Cmp%_Passing', 'Long Cmp_Passing',\n",
       "       'Long Att_Passing', 'Long Cmp%_Passing', 'Ast_Passing', 'xA_Passing',\n",
       "       'A-xA_Passing', 'KP_Passing', '1/3_Passing', 'PPA_Passing',\n",
       "       'CrsPA_Passing', 'Prog_Passing', '90s_Defense', 'Tackles Tkl_Defense',\n",
       "       'Tackles TklW_Defense', 'Tackles Def 3rd_Defense',\n",
       "       'Tackles Mid 3rd_Defense', 'Tackles Att 3rd_Defense',\n",
       "       'Vs Dribbles Tkl_Defense', 'Vs Dribbles Att_Defense',\n",
       "       'Vs Dribbles Tkl%_Defense', 'Vs Dribbles Past_Defense',\n",
       "       'Pressures Press_Defense', 'Pressures Succ_Defense',\n",
       "       'Pressures %_Defense', 'Pressures Def 3rd_Defense',\n",
       "       'Pressures Mid 3rd_Defense', 'Pressures Att 3rd_Defense',\n",
       "       'Blocks Blocks_Defense', 'Blocks Sh_Defense', 'Blocks ShSv_Defense',\n",
       "       'Blocks Pass_Defense', 'Int_Defense', 'Tkl+Int_Defense', 'Clr_Defense',\n",
       "       'Err_Defense', 'Playing Time MP_Goalkeeping',\n",
       "       'Playing Time Starts_Goalkeeping', 'Playing Time Min_Goalkeeping',\n",
       "       'Playing Time 90s_Goalkeeping', 'Performance GA_Goalkeeping',\n",
       "       'Performance GA90_Goalkeeping', 'Performance SoTA_Goalkeeping',\n",
       "       'Performance Saves_Goalkeeping', 'Performance Save%_Goalkeeping',\n",
       "       'W_Goalkeeping', 'D_Goalkeeping', 'L_Goalkeeping',\n",
       "       'Performance CS_Goalkeeping', 'Performance CS%_Goalkeeping',\n",
       "       'Performance PKatt_Goalkeeping', 'Penalty Kicks PKA_Goalkeeping',\n",
       "       'Penalty Kicks PKsv_Goalkeeping', 'Penalty Kicks PKm_Goalkeeping',\n",
       "       'Penalty Kicks Save%_Goalkeeping', 'churn', 'Year'],\n",
       "      dtype='object')"
      ]
     },
     "execution_count": 74,
     "metadata": {},
     "output_type": "execute_result"
    }
   ],
   "source": [
    "league.columns"
   ]
  },
  {
   "cell_type": "code",
   "execution_count": 75,
   "metadata": {},
   "outputs": [
    {
     "name": "stdout",
     "output_type": "stream",
     "text": [
      "Model Score\n",
      "0.7568339453284374\n"
     ]
    }
   ],
   "source": [
    "le = preprocessing.LabelEncoder()\n",
    "\n",
    "data = league[league['Year'] == '2020']\n",
    "\n",
    "le.fit(data['Nations'])\n",
    "data['Nations_cat'] = le.transform(data['Nations'])\n",
    "\n",
    "\n",
    "le.fit(data['Squads'])\n",
    "data['Squads_cat'] = le.transform(data['Squads'])\n",
    "\n",
    "\n",
    "le.fit(data['Leagues'])\n",
    "data['Leagues_cat'] = le.transform(data['Leagues'])\n",
    "\n",
    "le.fit(data['Positions'])\n",
    "data['Positions_cat'] = le.transform(data['Positions'])\n",
    "\n",
    "data = data[['Nations_cat', 'Squads_cat', 'Positions_cat', 'Age', 'Leagues_cat', 'Salary','90s_Shooting','W_Goalkeeping','Err_Defense', 'churn' ]]\n",
    "\n",
    "\n",
    "X = data[['Nations_cat', 'Squads_cat', 'Positions_cat', 'Age', 'Leagues_cat', 'Salary','90s_Shooting','W_Goalkeeping','Err_Defense']].values\n",
    "y = data['churn']\n",
    "\n",
    "X_train, X_test, y_train, y_test = train_test_split(X, y, test_size=0.33, random_state=42)\n",
    "\n",
    "clf = LogisticRegression(random_state=0).fit(X_train, y_train)\n",
    "\n",
    "print(\"Model Score\")\n",
    "print(clf.score(X_train, y_train))"
   ]
  },
  {
   "cell_type": "code",
   "execution_count": 77,
   "metadata": {},
   "outputs": [
    {
     "name": "stdout",
     "output_type": "stream",
     "text": [
      "              precision    recall  f1-score   support\n",
      "\n",
      "           0       0.73      0.93      0.82       675\n",
      "           1       0.86      0.56      0.68       533\n",
      "\n",
      "    accuracy                           0.77      1208\n",
      "   macro avg       0.80      0.75      0.75      1208\n",
      "weighted avg       0.79      0.77      0.76      1208\n",
      "\n"
     ]
    }
   ],
   "source": [
    "from sklearn.metrics import classification_report\n",
    "\n",
    "print(classification_report(y_test, clf.predict(X_test)))"
   ]
  },
  {
   "cell_type": "code",
   "execution_count": 78,
   "metadata": {},
   "outputs": [
    {
     "data": {
      "text/plain": [
       "array([[628,  47],\n",
       "       [233, 300]])"
      ]
     },
     "execution_count": 78,
     "metadata": {},
     "output_type": "execute_result"
    }
   ],
   "source": [
    "from sklearn.metrics import confusion_matrix\n",
    "\n",
    "confusion_matrix(y_test, clf.predict(X_test))"
   ]
  },
  {
   "cell_type": "code",
   "execution_count": 87,
   "metadata": {},
   "outputs": [
    {
     "data": {
      "text/plain": [
       "[-8.050833000227777e-06,\n",
       " -1.5824573432197942e-05,\n",
       " -8.434766980341156e-07,\n",
       " -4.0859033474289744e-06,\n",
       " -1.00514978917378e-06,\n",
       " 1.0,\n",
       " 2.288148453645318e-06,\n",
       " 1.503826704154281e-09,\n",
       " -2.0657156696981694e-09]"
      ]
     },
     "execution_count": 87,
     "metadata": {},
     "output_type": "execute_result"
    }
   ],
   "source": [
    "feats"
   ]
  },
  {
   "cell_type": "code",
   "execution_count": 89,
   "metadata": {
    "collapsed": true
   },
   "outputs": [],
   "source": [
    "feats = []\n",
    "\n",
    "for i in [4.28083598e-13,8.41433468e-13,  4.48498360e-14,  2.17258041e-13,\n",
    "   5.34464121e-14, -5.31725845e-08, -1.21666767e-13, -7.99623525e-17,\n",
    "   1.09839441e-16]:\n",
    "    \n",
    "    feats.append((i - np.mean([4.28083598e-13,8.41433468e-13,  4.48498360e-14,  2.17258041e-13,\n",
    "   5.34464121e-14, -5.31725845e-08, -1.21666767e-13, -7.99623525e-17,\n",
    "   1.09839441e-16]))/np.std([4.28083598e-13,8.41433468e-13,  4.48498360e-14,  2.17258041e-13,\n",
    "   5.34464121e-14, -5.31725845e-08, -1.21666767e-13, -7.99623525e-17,\n",
    "   1.09839441e-16]))"
   ]
  },
  {
   "cell_type": "code",
   "execution_count": 96,
   "metadata": {},
   "outputs": [
    {
     "data": {
      "image/png": "[encoded data removed]",
      "text/plain": [
       "<Figure size 1800x720 with 1 Axes>"
      ]
     },
     "metadata": {
      "needs_background": "light"
     },
     "output_type": "display_data"
    }
   ],
   "source": [
    "plt.bar([\"Nation\", \"Squad\", \"Position\", \"Age\", \"League\", \"Salary\", \"Playing_Time\", \"Wins\", \"Errors\"], \n",
    "        feats)\n",
    "plt.title('Relative Parameter Weighting For Churn Model')\n",
    "plt.show()"
   ]
  },
  {
   "cell_type": "code",
   "execution_count": 103,
   "metadata": {},
   "outputs": [
    {
     "data": {
      "image/png": "[encoded data removed]",
      "text/plain": [
       "<Figure size 1800x720 with 2 Axes>"
      ]
     },
     "metadata": {
      "needs_background": "light"
     },
     "output_type": "display_data"
    }
   ],
   "source": [
    "from sklearn.metrics import plot_confusion_matrix\n",
    "plot_confusion_matrix(clf, X_test, y_test)  \n",
    "plt.show()"
   ]
  },
  {
   "cell_type": "markdown",
   "metadata": {},
   "source": [
    "# League Churn Model (Log. Regress)"
   ]
  },
  {
   "cell_type": "code",
   "execution_count": 10,
   "metadata": {},
   "outputs": [
    {
     "name": "stdout",
     "output_type": "stream",
     "text": [
      "Model Score\n",
      "0.7568339453284374\n",
      "Number of Players Kicked\n",
      "195\n"
     ]
    }
   ],
   "source": [
    "def player_churn_model(league, year):\n",
    "    le = preprocessing.LabelEncoder()\n",
    "\n",
    "    data = league[league['Year'] == '2020']\n",
    "\n",
    "    le.fit(data['Nations'])\n",
    "    data['Nations_cat'] = le.transform(data['Nations'])\n",
    "\n",
    "\n",
    "    le.fit(data['Squads'])\n",
    "    data['Squads_cat'] = le.transform(data['Squads'])\n",
    "\n",
    "\n",
    "    le.fit(data['Leagues'])\n",
    "    data['Leagues_cat'] = le.transform(data['Leagues'])\n",
    "\n",
    "    le.fit(data['Positions'])\n",
    "    data['Positions_cat'] = le.transform(data['Positions'])\n",
    "\n",
    "    data = data[['Nations_cat', 'Squads_cat', 'Positions_cat', 'Age', 'Leagues_cat', 'Salary','90s_Shooting','W_Goalkeeping','Err_Defense', 'churn' ]]\n",
    "\n",
    "\n",
    "    X = data[['Nations_cat', 'Squads_cat', 'Positions_cat', 'Age', 'Leagues_cat', 'Salary','90s_Shooting','W_Goalkeeping','Err_Defense']].values\n",
    "    y = data['churn']\n",
    "\n",
    "    X_train, X_test, y_train, y_test = train_test_split(X, y, test_size=0.33, random_state=42)\n",
    "\n",
    "    clf = LogisticRegression(random_state=0).fit(X_train, y_train)\n",
    "\n",
    "    print(\"Model Score\")\n",
    "    print(clf.score(X_train, y_train))\n",
    "\n",
    "    league_year = league[league['Year'] == year]\n",
    "\n",
    "    league_year_data = league_year.reset_index(drop=True)\n",
    "\n",
    "    le.fit(league_year_data['Nations'])\n",
    "    league_year_data['Nations_cat'] = le.transform(league_year_data['Nations'])\n",
    "\n",
    "\n",
    "    le.fit(league_year_data['Squads'])\n",
    "    league_year_data['Squads_cat'] = le.transform(league_year_data['Squads'])\n",
    "\n",
    "\n",
    "    le.fit(league_year_data['Leagues'])\n",
    "    league_year_data['Leagues_cat'] = le.transform(league_year_data['Leagues'])\n",
    "\n",
    "    le.fit(league_year_data['Positions'])\n",
    "    league_year_data['Positions_cat'] = le.transform(league_year_data['Positions'])\n",
    "\n",
    "    league_year_data_x = league_year_data[['Nations_cat', 'Squads_cat', 'Positions_cat', 'Age', 'Leagues_cat', 'Salary','90s_Shooting','W_Goalkeeping','Err_Defense' ]]\n",
    "\n",
    "    preds = pd.DataFrame(clf.predict_proba(league_year_data_x)).reset_index(drop=True)\n",
    "    preds.columns = ['Active', \"Churn\"]\n",
    "\n",
    "    df_with_preds = pd.concat([league_year_data,preds], axis=1)\n",
    "\n",
    "    kicked_players = df_with_preds[df_with_preds.Churn > 0.5]\n",
    "\n",
    "    print(\"Number of Players Kicked\")\n",
    "    num_kicked = len(kicked_players)\n",
    "    print(num_kicked)\n",
    "\n",
    "    remaining_players = df_with_preds[df_with_preds.Churn <= 0.7]\n",
    "    remaining_players = remaining_players.drop(['Nations_cat',\n",
    "       'Squads_cat', 'Positions_cat', 'Active', 'Churn'], axis=1)\n",
    "    \n",
    "    league = league[league.Year != year]\n",
    "    \n",
    "    remaining_players = pd.concat([remaining_players, league], axis=0)\n",
    "\n",
    "    return num_kicked, kicked_players, remaining_players\n",
    "\n",
    "\n",
    "num_kicked, kicked_players, league_22 = player_churn_model(league, '2021')\n",
    "league_22 = league_22.drop_duplicates(['Player', 'Year'])"
   ]
  },
  {
   "cell_type": "markdown",
   "metadata": {},
   "source": [
    "# Age & Advance Player Overalls"
   ]
  },
  {
   "cell_type": "code",
   "execution_count": 11,
   "metadata": {
    "collapsed": true
   },
   "outputs": [],
   "source": [
    "def advance_year(year, league):\n",
    "    league = league[league.Year == year]    \n",
    "    \n",
    "    player = pd.DataFrame()\n",
    "\n",
    "    player[\"Player\"] = league.Player.tolist()\n",
    "    player[\"Nations\"] = league.Nations.tolist()\n",
    "    player[\"Squads\"] = league.Squads.tolist()\n",
    "    player[\"Age\"] = league.Age.astype(int).tolist()\n",
    "    #player[\"Positions\"] = league.Positions.tolist()\n",
    "    player[\"Positions\"] = league.Positions.tolist()\n",
    "    player['Year'] = league.Year.astype(int).tolist()\n",
    "    player['Salary'] = league.Salary.astype(int).tolist()\n",
    "\n",
    "    num_cols = ['90s_Shooting', 'Gls_Shooting',\n",
    "       'Standard Sh_Shooting', 'Standard SoT_Shooting',\n",
    "       'Standard SoT%_Shooting', 'Standard Sh/90_Shooting',\n",
    "       'Standard SoT/90_Shooting', 'Standard G/Sh_Shooting',\n",
    "       'Standard G/SoT_Shooting', 'Standard Dist_Shooting',\n",
    "       'Standard FK_Shooting', 'Performance PK_Shooting',\n",
    "       'Performance PKatt_Shooting', 'Expected xG_Shooting',\n",
    "       'Expected npxG_Shooting', 'Expected npxG/Sh_Shooting',\n",
    "       'Expected G-xG_Shooting', 'Expected np:G-xG_Shooting', '90s_Passing',\n",
    "       'Total Cmp_Passing', 'Total Att_Passing', 'Total Cmp%_Passing',\n",
    "       'Total TotDist_Passing', 'Total PrgDist_Passing', 'Short Cmp_Passing',\n",
    "       'Short Att_Passing', 'Short Cmp%_Passing', 'Medium Cmp_Passing',\n",
    "       'Medium Att_Passing', 'Medium Cmp%_Passing', 'Long Cmp_Passing',\n",
    "       'Long Att_Passing', 'Long Cmp%_Passing', 'Ast_Passing', 'xA_Passing',\n",
    "       'A-xA_Passing', 'KP_Passing', '1/3_Passing', 'PPA_Passing',\n",
    "       'CrsPA_Passing', 'Prog_Passing', '90s_Defense', 'Tackles Tkl_Defense',\n",
    "       'Tackles TklW_Defense', 'Tackles Def 3rd_Defense',\n",
    "       'Tackles Mid 3rd_Defense', 'Tackles Att 3rd_Defense',\n",
    "       'Vs Dribbles Tkl_Defense', 'Vs Dribbles Att_Defense',\n",
    "       'Vs Dribbles Tkl%_Defense', 'Vs Dribbles Past_Defense',\n",
    "       'Pressures Press_Defense', 'Pressures Succ_Defense',\n",
    "       'Pressures %_Defense', 'Pressures Def 3rd_Defense',\n",
    "       'Pressures Mid 3rd_Defense', 'Pressures Att 3rd_Defense',\n",
    "       'Blocks Blocks_Defense', 'Blocks Sh_Defense', 'Blocks ShSv_Defense',\n",
    "       'Blocks Pass_Defense', 'Int_Defense', 'Tkl+Int_Defense', 'Clr_Defense',\n",
    "       'Err_Defense', 'Playing Time MP_Goalkeeping',\n",
    "       'Playing Time Starts_Goalkeeping', 'Playing Time Min_Goalkeeping',\n",
    "       'Playing Time 90s_Goalkeeping', 'Performance GA_Goalkeeping',\n",
    "       'Performance GA90_Goalkeeping', 'Performance SoTA_Goalkeeping',\n",
    "       'Performance Saves_Goalkeeping', 'Performance Save%_Goalkeeping',\n",
    "       'W_Goalkeeping', 'D_Goalkeeping', 'L_Goalkeeping',\n",
    "       'Performance CS_Goalkeeping', 'Performance CS%_Goalkeeping',\n",
    "       'Performance PKatt_Goalkeeping', 'Penalty Kicks PKA_Goalkeeping',\n",
    "       'Penalty Kicks PKsv_Goalkeeping', 'Penalty Kicks PKm_Goalkeeping',\n",
    "       'Penalty Kicks Save%_Goalkeeping']\n",
    "\n",
    "    for i in num_cols:\n",
    "\n",
    "        player[i] = league[i].tolist() \n",
    "        \n",
    "    player['Year'] = player['Year'] + 1\n",
    "    player['Age'] = player['Age'] + 1\n",
    "    player['Salary'] = player['Salary']*1.02 + np.random.binomial(1, 0.15)*player['Salary']*1.1\n",
    "\n",
    "    return player\n",
    "\n",
    "def get_next_year(year, league):\n",
    "    \n",
    "    teams1 = league[league.Leagues == 'A'].Squads.to_list()\n",
    "    teams2 =league[league.Leagues == 'B'].Squads.to_list()\n",
    "    teams3 =league[league.Leagues == 'C'].Squads.to_list()\n",
    "    teams4 =league[league.Leagues == 'D'].Squads.to_list()\n",
    "    teams5 =league[league.Leagues == 'E'].Squads.to_list()\n",
    "    teams6 =league[league.Leagues == 'RFL'].Squads.to_list()\n",
    "\n",
    "    temp_df = advance_year(year, league)\n",
    "\n",
    "    num_cols = ['90s_Shooting', 'Gls_Shooting',\n",
    "       'Standard Sh_Shooting', 'Standard SoT_Shooting',\n",
    "       'Standard SoT%_Shooting', 'Standard Sh/90_Shooting',\n",
    "       'Standard SoT/90_Shooting', 'Standard G/Sh_Shooting',\n",
    "       'Standard G/SoT_Shooting', 'Standard Dist_Shooting',\n",
    "       'Standard FK_Shooting', 'Performance PK_Shooting',\n",
    "       'Performance PKatt_Shooting', 'Expected xG_Shooting',\n",
    "       'Expected npxG_Shooting', 'Expected npxG/Sh_Shooting',\n",
    "       'Expected G-xG_Shooting', 'Expected np:G-xG_Shooting', '90s_Passing',\n",
    "       'Total Cmp_Passing', 'Total Att_Passing', 'Total Cmp%_Passing',\n",
    "       'Total TotDist_Passing', 'Total PrgDist_Passing', 'Short Cmp_Passing',\n",
    "       'Short Att_Passing', 'Short Cmp%_Passing', 'Medium Cmp_Passing',\n",
    "       'Medium Att_Passing', 'Medium Cmp%_Passing', 'Long Cmp_Passing',\n",
    "       'Long Att_Passing', 'Long Cmp%_Passing', 'Ast_Passing', 'xA_Passing',\n",
    "       'A-xA_Passing', 'KP_Passing', '1/3_Passing', 'PPA_Passing',\n",
    "       'CrsPA_Passing', 'Prog_Passing', '90s_Defense', 'Tackles Tkl_Defense',\n",
    "       'Tackles TklW_Defense', 'Tackles Def 3rd_Defense',\n",
    "       'Tackles Mid 3rd_Defense', 'Tackles Att 3rd_Defense',\n",
    "       'Vs Dribbles Tkl_Defense', 'Vs Dribbles Att_Defense',\n",
    "       'Vs Dribbles Tkl%_Defense', 'Vs Dribbles Past_Defense',\n",
    "       'Pressures Press_Defense', 'Pressures Succ_Defense',\n",
    "       'Pressures %_Defense', 'Pressures Def 3rd_Defense',\n",
    "       'Pressures Mid 3rd_Defense', 'Pressures Att 3rd_Defense',\n",
    "       'Blocks Blocks_Defense', 'Blocks Sh_Defense', 'Blocks ShSv_Defense',\n",
    "       'Blocks Pass_Defense', 'Int_Defense', 'Tkl+Int_Defense', 'Clr_Defense',\n",
    "       'Err_Defense', 'Playing Time MP_Goalkeeping',\n",
    "       'Playing Time Starts_Goalkeeping', 'Playing Time Min_Goalkeeping',\n",
    "       'Playing Time 90s_Goalkeeping', 'Performance GA_Goalkeeping',\n",
    "       'Performance GA90_Goalkeeping', 'Performance SoTA_Goalkeeping',\n",
    "       'Performance Saves_Goalkeeping', 'Performance Save%_Goalkeeping',\n",
    "       'W_Goalkeeping', 'D_Goalkeeping', 'L_Goalkeeping',\n",
    "       'Performance CS_Goalkeeping', 'Performance CS%_Goalkeeping',\n",
    "       'Performance PKatt_Goalkeeping', 'Penalty Kicks PKA_Goalkeeping',\n",
    "       'Penalty Kicks PKsv_Goalkeeping', 'Penalty Kicks PKm_Goalkeeping',\n",
    "       'Penalty Kicks Save%_Goalkeeping']\n",
    "    \n",
    "    \n",
    "    fwds = ['MFFW', 'DFFW', 'FW','MFFW']\n",
    "    mids = ['FWMF','MF','GKMF','DFMF', ]\n",
    "    d = ['DF', 'MFDF', 'FWDF', ]\n",
    "    gk = ['GK',  'MFGK']\n",
    "    \n",
    "    x = temp_df.Positions.isin(d)\n",
    "    y = temp_df.Positions.isin(gk)\n",
    "    \n",
    "    z = temp_df.Positions.isin(fwds)\n",
    "    t = temp_df.Positions.isin(mids)\n",
    "\n",
    "    for i in num_cols:\n",
    "\n",
    "        temp_df.loc[((x)|(y))&(temp_df.Age <= 24), i] = temp_df.loc[((x)|(y))&(temp_df.Age <= 24), i]*1.08\n",
    "        temp_df.loc[((x)|(y))&(temp_df.Age <= 28)&(temp_df.Age > 24), i] = temp_df.loc[((x)|(y))&(temp_df.Age <= 28)&(temp_df.Age > 24), i] \n",
    "        temp_df.loc[((x)|(y))&(temp_df.Age >= 28), i] = temp_df.loc[((x)|(y))&(temp_df.Age >= 28), i]*0.92\n",
    "\n",
    "        temp_df.loc[((z)|(t))&(temp_df.Age <= 26), i] = temp_df.loc[((z)|(t))&(temp_df.Age <= 26), i]*1.05\n",
    "        temp_df.loc[((z)|(t))&(temp_df.Age <= 30)&(temp_df.Age > 26), i] = temp_df.loc[((z)|(t))&(temp_df.Age <= 30)&(temp_df.Age > 26), i] \n",
    "        temp_df.loc[((z)|(t))&(temp_df.Age >= 30), i] = temp_df.loc[((z)|(t))&(temp_df.Age >= 30), i]*0.95\n",
    "    \n",
    "    temp_df[\"Leagues\"] = np.nan\n",
    "    temp_df.loc[temp_df.Squads.isin(teams1), \"Leagues\"] = 'A'\n",
    "    temp_df.loc[temp_df.Squads.isin(teams2), \"Leagues\"] = 'B'\n",
    "    temp_df.loc[temp_df.Squads.isin(teams3), \"Leagues\"] = 'C'\n",
    "    temp_df.loc[temp_df.Squads.isin(teams4), \"Leagues\"] = 'D'\n",
    "    temp_df.loc[temp_df.Squads.isin(teams5), \"Leagues\"] = 'E'\n",
    "    temp_df.loc[temp_df.Squads.isin(teams6), \"Leagues\"] = 'RFL'\n",
    "        \n",
    "    return temp_df\n",
    "\n",
    "league_22 = get_next_year(\"2021\", league_22)\n",
    "league_22.Leagues = league_22.Leagues.fillna('Tournament')\n",
    "league = pd.concat([league, league_22], axis=0)\n",
    "league.churn = league.churn.fillna(0)"
   ]
  },
  {
   "cell_type": "markdown",
   "metadata": {},
   "source": [
    "# Generate Players"
   ]
  },
  {
   "cell_type": "code",
   "execution_count": 12,
   "metadata": {
    "collapsed": true
   },
   "outputs": [],
   "source": [
    "def get_new_player(year, kicked_players, league_22):\n",
    "    used_names = kicked_players.Player.to_list()\n",
    "    \n",
    "    name = names.get_full_name(gender='male').replace(' ', '')\n",
    "\n",
    "    if name in used_names:\n",
    "\n",
    "        pass\n",
    "\n",
    "    else:\n",
    "\n",
    "        player = {}\n",
    "        player[\"Player\"] = name\n",
    "        player[\"Nations\"] = random.choice(kicked_players.Nations.tolist())\n",
    "        player[\"Squads\"] = random.choice(kicked_players.Squads.tolist())\n",
    "        player[\"Age\"] = round(np.random.uniform(17, 25))\n",
    "        player[\"Positions\"] = random.choice(kicked_players.Positions.tolist())\n",
    "        player['Year'] = year\n",
    "        player['Salary'] = round(np.random.normal(np.mean(league_22['Salary']), np.std(league_22['Salary'])))\n",
    "        \n",
    "        num_cols = ['90s_Shooting', 'Gls_Shooting',\n",
    "       'Standard Sh_Shooting', 'Standard SoT_Shooting',\n",
    "       'Standard SoT%_Shooting', 'Standard Sh/90_Shooting',\n",
    "       'Standard SoT/90_Shooting', 'Standard G/Sh_Shooting',\n",
    "       'Standard G/SoT_Shooting', 'Standard Dist_Shooting',\n",
    "       'Standard FK_Shooting', 'Performance PK_Shooting',\n",
    "       'Performance PKatt_Shooting', 'Expected xG_Shooting',\n",
    "       'Expected npxG_Shooting', 'Expected npxG/Sh_Shooting',\n",
    "       'Expected G-xG_Shooting', 'Expected np:G-xG_Shooting', '90s_Passing',\n",
    "       'Total Cmp_Passing', 'Total Att_Passing', 'Total Cmp%_Passing',\n",
    "       'Total TotDist_Passing', 'Total PrgDist_Passing', 'Short Cmp_Passing',\n",
    "       'Short Att_Passing', 'Short Cmp%_Passing', 'Medium Cmp_Passing',\n",
    "       'Medium Att_Passing', 'Medium Cmp%_Passing', 'Long Cmp_Passing',\n",
    "       'Long Att_Passing', 'Long Cmp%_Passing', 'Ast_Passing', 'xA_Passing',\n",
    "       'A-xA_Passing', 'KP_Passing', '1/3_Passing', 'PPA_Passing',\n",
    "       'CrsPA_Passing', 'Prog_Passing', '90s_Defense', 'Tackles Tkl_Defense',\n",
    "       'Tackles TklW_Defense', 'Tackles Def 3rd_Defense',\n",
    "       'Tackles Mid 3rd_Defense', 'Tackles Att 3rd_Defense',\n",
    "       'Vs Dribbles Tkl_Defense', 'Vs Dribbles Att_Defense',\n",
    "       'Vs Dribbles Tkl%_Defense', 'Vs Dribbles Past_Defense',\n",
    "       'Pressures Press_Defense', 'Pressures Succ_Defense',\n",
    "       'Pressures %_Defense', 'Pressures Def 3rd_Defense',\n",
    "       'Pressures Mid 3rd_Defense', 'Pressures Att 3rd_Defense',\n",
    "       'Blocks Blocks_Defense', 'Blocks Sh_Defense', 'Blocks ShSv_Defense',\n",
    "       'Blocks Pass_Defense', 'Int_Defense', 'Tkl+Int_Defense', 'Clr_Defense',\n",
    "       'Err_Defense', 'Playing Time MP_Goalkeeping',\n",
    "       'Playing Time Starts_Goalkeeping', 'Playing Time Min_Goalkeeping',\n",
    "       'Playing Time 90s_Goalkeeping', 'Performance GA_Goalkeeping',\n",
    "       'Performance GA90_Goalkeeping', 'Performance SoTA_Goalkeeping',\n",
    "       'Performance Saves_Goalkeeping', 'Performance Save%_Goalkeeping',\n",
    "       'W_Goalkeeping', 'D_Goalkeeping', 'L_Goalkeeping',\n",
    "       'Performance CS_Goalkeeping', 'Performance CS%_Goalkeeping',\n",
    "       'Performance PKatt_Goalkeeping', 'Penalty Kicks PKA_Goalkeeping',\n",
    "       'Penalty Kicks PKsv_Goalkeeping', 'Penalty Kicks PKm_Goalkeeping',\n",
    "       'Penalty Kicks Save%_Goalkeeping']\n",
    "        \n",
    "        try:\n",
    "        \n",
    "            for i in num_cols:\n",
    "\n",
    "                player[i] = np.random.normal(np.mean(league_22[i]), np.std(league_22[i]))\n",
    "                \n",
    "        except:\n",
    "            \n",
    "            print('An Error Occured')\n",
    "\n",
    "        return player\n",
    "\n",
    "def add_players_to_league(num_kicked, year, kicked_players, league_22):\n",
    "    \n",
    "    player_dict = {}\n",
    "    \n",
    "    for i in range(num_kicked):\n",
    "        \n",
    "        player_dict[i] = get_new_player(year, kicked_players, league_22)\n",
    "                    \n",
    "    return player_dict\n",
    "\n",
    "new_players = pd.DataFrame(add_players_to_league(num_kicked, '2022', kicked_players, league)).T\n",
    "#new_players = get_player_ratings(new_players)\n",
    "#new_players = get_pos(new_players)\n",
    "league = pd.concat([league, new_players], axis=0)\n",
    "#league = get_ovr(league)\n",
    "league.churn = league.churn.fillna(0)\n",
    "# new_league_22= new_league_22.drop_duplicates(['Player', 'Year'], keep = 'last')\n",
    "\n",
    "# teams1 = league[league.Leagues == 'A'].Squads.to_list()\n",
    "# teams2 =league[league.Leagues == 'B'].Squads.to_list()\n",
    "# teams3 =league[league.Leagues == 'C'].Squads.to_list()\n",
    "# teams4 =league[league.Leagues == 'D'].Squads.to_list()\n",
    "# teams5 =league[league.Leagues == 'E'].Squads.to_list()\n",
    "# teams6 =league[league.Leagues == 'RFL'].Squads.to_list()\n",
    "\n",
    "# new_league_22.loc[new_league_22.Squads.isin(teams1), \"Leagues\"] = 'A'\n",
    "# new_league_22.loc[new_league_22.Squads.isin(teams2), \"Leagues\"] = 'B'\n",
    "# new_league_22.loc[new_league_22.Squads.isin(teams3), \"Leagues\"] = 'C'\n",
    "# new_league_22.loc[new_league_22.Squads.isin(teams4), \"Leagues\"] = 'D'\n",
    "# new_league_22.loc[new_league_22.Squads.isin(teams5), \"Leagues\"] = 'E'\n",
    "# new_league_22.loc[new_league_22.Squads.isin(teams6), \"Leagues\"] = 'RFL'"
   ]
  },
  {
   "cell_type": "code",
   "execution_count": 13,
   "metadata": {
    "collapsed": true
   },
   "outputs": [],
   "source": [
    "####generate 10 years of data##\n",
    "####randomly add +1 to rarita players each year from funding##\n",
    "###multiply all non-rarita salaries by 10%, rarita salaries by -10%"
   ]
  },
  {
   "cell_type": "code",
   "execution_count": 14,
   "metadata": {
    "collapsed": true
   },
   "outputs": [],
   "source": [
    "league.Year = league.Year.astype(str)\n",
    "league = league.drop(['Born', 'Unnamed: 0'], axis=1)"
   ]
  },
  {
   "cell_type": "code",
   "execution_count": 15,
   "metadata": {
    "collapsed": true
   },
   "outputs": [],
   "source": [
    "league[['Leagues', 'Squads']]=league[['Leagues', 'Squads']].fillna('Tournament')"
   ]
  },
  {
   "cell_type": "markdown",
   "metadata": {},
   "source": [
    "# 2023"
   ]
  },
  {
   "cell_type": "code",
   "execution_count": 16,
   "metadata": {},
   "outputs": [
    {
     "name": "stdout",
     "output_type": "stream",
     "text": [
      "Model Score\n",
      "0.7568339453284374\n",
      "Number of Players Kicked\n",
      "209\n"
     ]
    }
   ],
   "source": [
    "\n",
    "num_kicked, kicked_players, league_23 = player_churn_model(league, '2022')\n",
    "league_23 = league_23.drop_duplicates(['Player', 'Year'])"
   ]
  },
  {
   "cell_type": "code",
   "execution_count": 17,
   "metadata": {
    "collapsed": true
   },
   "outputs": [],
   "source": [
    "league_23 = get_next_year(\"2022\", league_23)\n",
    "league_23.Leagues = league_23.Leagues.fillna('Tournament')\n",
    "league = pd.concat([league, league_23], axis=0)\n",
    "league.churn = league.churn.fillna(0)\n",
    "league.Year = league.Year.astype(str)\n",
    "league_23.Year = league_23.Year.astype(str)"
   ]
  },
  {
   "cell_type": "code",
   "execution_count": 18,
   "metadata": {
    "collapsed": true
   },
   "outputs": [],
   "source": [
    "new_players = pd.DataFrame(add_players_to_league(num_kicked, '2023', kicked_players, league_23)).T\n",
    "#new_players = get_pos(new_players)\n",
    "league = pd.concat([league, new_players], axis=0)\n",
    "#league = get_ovr(league)\n",
    "league.churn = league.churn.fillna(0)\n",
    "league.Year = league.Year.astype(str)"
   ]
  },
  {
   "cell_type": "code",
   "execution_count": 19,
   "metadata": {
    "collapsed": true
   },
   "outputs": [],
   "source": [
    "league[['Leagues', 'Squads']]=league[['Leagues', 'Squads']].fillna('Tournament')"
   ]
  },
  {
   "cell_type": "markdown",
   "metadata": {},
   "source": [
    "# 2024"
   ]
  },
  {
   "cell_type": "code",
   "execution_count": 20,
   "metadata": {},
   "outputs": [
    {
     "name": "stdout",
     "output_type": "stream",
     "text": [
      "Model Score\n",
      "0.7568339453284374\n",
      "Number of Players Kicked\n",
      "216\n"
     ]
    }
   ],
   "source": [
    "num_kicked, kicked_players, league_24 = player_churn_model(league, '2023')\n",
    "league_24 = league_24.drop_duplicates(['Player', 'Year'])\n",
    "\n",
    "\n",
    "league_24 = get_next_year(\"2023\", league_24)\n",
    "league_24.Leagues = league_24.Leagues.fillna('Tournament')\n",
    "league = pd.concat([league, league_24], axis=0)\n",
    "league.churn = league.churn.fillna(0)\n",
    "league.Year = league.Year.astype(str)\n",
    "new_players = pd.DataFrame(add_players_to_league(num_kicked, '2024', kicked_players, league_24)).T\n",
    "#new_players = get_pos(new_players)\n",
    "league = pd.concat([league, new_players], axis=0)\n",
    "#league = get_ovr(league)\n",
    "league.churn = league.churn.fillna(0)\n",
    "league.Year = league.Year.astype(str)\n",
    "league[['Leagues', 'Squads']]=league[['Leagues', 'Squads']].fillna('Tournament')"
   ]
  },
  {
   "cell_type": "markdown",
   "metadata": {},
   "source": [
    "# 2025"
   ]
  },
  {
   "cell_type": "code",
   "execution_count": 21,
   "metadata": {},
   "outputs": [
    {
     "name": "stdout",
     "output_type": "stream",
     "text": [
      "Model Score\n",
      "0.7568339453284374\n",
      "Number of Players Kicked\n",
      "225\n"
     ]
    }
   ],
   "source": [
    "num_kicked, kicked_players, league_25 = player_churn_model(league, '2024')\n",
    "league_25 = league_25.drop_duplicates(['Player', 'Year'])\n",
    "\n",
    "\n",
    "league_25 = get_next_year(\"2024\", league_25)\n",
    "league_25.Leagues = league_25.Leagues.fillna('Tournament')\n",
    "league = pd.concat([league, league_25], axis=0)\n",
    "league.churn = league.churn.fillna(0)\n",
    "league.Year = league.Year.astype(str)\n",
    "new_players = pd.DataFrame(add_players_to_league(num_kicked, '2025', kicked_players, league_25)).T\n",
    "#new_players = get_pos(new_players)\n",
    "league = pd.concat([league, new_players], axis=0)\n",
    "#league = get_ovr(league)\n",
    "league.churn = league.churn.fillna(0)\n",
    "league.Year = league.Year.astype(str)\n",
    "league[['Leagues', 'Squads']]=league[['Leagues', 'Squads']].fillna('Tournament')"
   ]
  },
  {
   "cell_type": "markdown",
   "metadata": {},
   "source": [
    "# 2026"
   ]
  },
  {
   "cell_type": "code",
   "execution_count": 22,
   "metadata": {},
   "outputs": [
    {
     "name": "stdout",
     "output_type": "stream",
     "text": [
      "Model Score\n",
      "0.7568339453284374\n",
      "Number of Players Kicked\n",
      "234\n"
     ]
    }
   ],
   "source": [
    "num_kicked, kicked_players, league_26 = player_churn_model(league, '2025')\n",
    "league_26 = league_26.drop_duplicates(['Player', 'Year'])\n",
    "\n",
    "\n",
    "league_26 = get_next_year(\"2025\", league_26)\n",
    "league_26.Leagues = league_26.Leagues.fillna('Tournament')\n",
    "league = pd.concat([league, league_26], axis=0)\n",
    "league.churn = league.churn.fillna(0)\n",
    "league.Year = league.Year.astype(str)\n",
    "new_players = pd.DataFrame(add_players_to_league(num_kicked, '2026', kicked_players, league_26)).T\n",
    "#new_players = get_pos(new_players)\n",
    "league = pd.concat([league, new_players], axis=0)\n",
    "#league = get_ovr(league)\n",
    "league.churn = league.churn.fillna(0)\n",
    "league.Year = league.Year.astype(str)\n",
    "league[['Leagues', 'Squads']]=league[['Leagues', 'Squads']].fillna('Tournament')"
   ]
  },
  {
   "cell_type": "markdown",
   "metadata": {},
   "source": [
    "# 2027"
   ]
  },
  {
   "cell_type": "code",
   "execution_count": 23,
   "metadata": {},
   "outputs": [
    {
     "name": "stdout",
     "output_type": "stream",
     "text": [
      "Model Score\n",
      "0.7568339453284374\n",
      "Number of Players Kicked\n",
      "244\n"
     ]
    }
   ],
   "source": [
    "num_kicked, kicked_players, league_27 = player_churn_model(league, '2026')\n",
    "league_27 = league_27.drop_duplicates(['Player', 'Year'])\n",
    "\n",
    "\n",
    "league_27 = get_next_year(\"2026\", league_27)\n",
    "league_27.Leagues = league_27.Leagues.fillna('Tournament')\n",
    "league = pd.concat([league, league_27], axis=0)\n",
    "league.churn = league.churn.fillna(0)\n",
    "league.Year = league.Year.astype(str)\n",
    "new_players = pd.DataFrame(add_players_to_league(num_kicked, '2027', kicked_players, league_27)).T\n",
    "#new_players = get_pos(new_players)\n",
    "league = pd.concat([league, new_players], axis=0)\n",
    "#league = get_ovr(league)\n",
    "league.churn = league.churn.fillna(0)\n",
    "league.Year = league.Year.astype(str)\n",
    "league[['Leagues', 'Squads']]=league[['Leagues', 'Squads']].fillna('Tournament')"
   ]
  },
  {
   "cell_type": "markdown",
   "metadata": {},
   "source": [
    "# 2028"
   ]
  },
  {
   "cell_type": "code",
   "execution_count": 24,
   "metadata": {},
   "outputs": [
    {
     "name": "stdout",
     "output_type": "stream",
     "text": [
      "Model Score\n",
      "0.7568339453284374\n",
      "Number of Players Kicked\n",
      "253\n"
     ]
    }
   ],
   "source": [
    "num_kicked, kicked_players, league_28 = player_churn_model(league, '2027')\n",
    "league_28 = league_28.drop_duplicates(['Player', 'Year'])\n",
    "\n",
    "\n",
    "league_28 = get_next_year(\"2027\", league_28)\n",
    "league_28.Leagues = league_28.Leagues.fillna('Tournament')\n",
    "league = pd.concat([league, league_28], axis=0)\n",
    "league.churn = league.churn.fillna(0)\n",
    "league.Year = league.Year.astype(str)\n",
    "new_players = pd.DataFrame(add_players_to_league(num_kicked, '2028', kicked_players, league_28)).T\n",
    "#new_players = get_pos(new_players)\n",
    "league = pd.concat([league, new_players], axis=0)\n",
    "#league = get_ovr(league)\n",
    "league.churn = league.churn.fillna(0)\n",
    "league.Year = league.Year.astype(str)\n",
    "league[['Leagues', 'Squads']]=league[['Leagues', 'Squads']].fillna('Tournament')"
   ]
  },
  {
   "cell_type": "markdown",
   "metadata": {},
   "source": [
    "# 2029"
   ]
  },
  {
   "cell_type": "code",
   "execution_count": 25,
   "metadata": {},
   "outputs": [
    {
     "name": "stdout",
     "output_type": "stream",
     "text": [
      "Model Score\n",
      "0.7568339453284374\n",
      "Number of Players Kicked\n",
      "263\n"
     ]
    }
   ],
   "source": [
    "num_kicked, kicked_players, league_29 = player_churn_model(league, '2028')\n",
    "league_29 = league_29.drop_duplicates(['Player', 'Year'])\n",
    "\n",
    "\n",
    "league_29 = get_next_year(\"2028\", league_29)\n",
    "league_29.Leagues = league_29.Leagues.fillna('Tournament')\n",
    "league = pd.concat([league, league_29], axis=0)\n",
    "league.churn = league.churn.fillna(0)\n",
    "league.Year = league.Year.astype(str)\n",
    "new_players = pd.DataFrame(add_players_to_league(num_kicked, '2029', kicked_players, league_29)).T\n",
    "#new_players = get_pos(new_players)\n",
    "league = pd.concat([league, new_players], axis=0)\n",
    "#league = get_ovr(league)\n",
    "league.churn = league.churn.fillna(0)\n",
    "league.Year = league.Year.astype(str)\n",
    "league[['Leagues', 'Squads']]=league[['Leagues', 'Squads']].fillna('Tournament')"
   ]
  },
  {
   "cell_type": "markdown",
   "metadata": {},
   "source": [
    "# 2030"
   ]
  },
  {
   "cell_type": "code",
   "execution_count": 26,
   "metadata": {},
   "outputs": [
    {
     "name": "stdout",
     "output_type": "stream",
     "text": [
      "Model Score\n",
      "0.7568339453284374\n",
      "Number of Players Kicked\n",
      "254\n"
     ]
    }
   ],
   "source": [
    "num_kicked, kicked_players, league_30 = player_churn_model(league, '2029')\n",
    "league_30 = league_30.drop_duplicates(['Player', 'Year'])\n",
    "\n",
    "\n",
    "league_30 = get_next_year(\"2028\", league_30)\n",
    "league_30.Leagues = league_30.Leagues.fillna('Tournament')\n",
    "league = pd.concat([league, league_30], axis=0)\n",
    "league.churn = league.churn.fillna(0)\n",
    "league.Year = league.Year.astype(str)\n",
    "new_players = pd.DataFrame(add_players_to_league(num_kicked, '2030', kicked_players, league_30)).T\n",
    "#new_players = get_pos(new_players)\n",
    "league = pd.concat([league, new_players], axis=0)\n",
    "#league = get_ovr(league)\n",
    "league.churn = league.churn.fillna(0)\n",
    "league.Year = league.Year.astype(str)\n",
    "league[['Leagues', 'Squads']]=league[['Leagues', 'Squads']].fillna('Tournament')"
   ]
  },
  {
   "cell_type": "markdown",
   "metadata": {},
   "source": [
    "# 2031"
   ]
  },
  {
   "cell_type": "code",
   "execution_count": 27,
   "metadata": {},
   "outputs": [
    {
     "name": "stdout",
     "output_type": "stream",
     "text": [
      "Model Score\n",
      "0.7568339453284374\n",
      "Number of Players Kicked\n",
      "12\n"
     ]
    }
   ],
   "source": [
    "num_kicked, kicked_players, league_31 = player_churn_model(league, '2030')\n",
    "league_31 = league_31.drop_duplicates(['Player', 'Year'])\n",
    "\n",
    "\n",
    "league_31 = get_next_year(\"2029\", league_31)\n",
    "league_31.Leagues = league_31.Leagues.fillna('Tournament')\n",
    "league = pd.concat([league, league_31], axis=0)\n",
    "league.churn = league.churn.fillna(0)\n",
    "league.Year = league.Year.astype(str)\n",
    "new_players = pd.DataFrame(add_players_to_league(num_kicked, '2031', kicked_players, league_31)).T\n",
    "#new_players = get_pos(new_players)\n",
    "league = pd.concat([league, new_players], axis=0)\n",
    "#league = get_ovr(league)\n",
    "league.churn = league.churn.fillna(0)\n",
    "league.Year = league.Year.astype(str)\n",
    "league[['Leagues', 'Squads']]=league[['Leagues', 'Squads']].fillna('Tournament')"
   ]
  },
  {
   "cell_type": "code",
   "execution_count": 28,
   "metadata": {},
   "outputs": [
    {
     "name": "stdout",
     "output_type": "stream",
     "text": [
      "Model Score\n",
      "0.7568339453284374\n",
      "Number of Players Kicked\n",
      "2\n"
     ]
    }
   ],
   "source": [
    "num_kicked, kicked_players, league_32 = player_churn_model(league, '2031')\n",
    "league_32 = league_32.drop_duplicates(['Player', 'Year'])\n",
    "\n",
    "\n",
    "league_32 = get_next_year(\"2030\", league_32)\n",
    "league_32.Leagues = league_32.Leagues.fillna('Tournament')\n",
    "league = pd.concat([league, league_32], axis=0)\n",
    "league.churn = league.churn.fillna(0)\n",
    "league.Year = league.Year.astype(str)\n",
    "new_players = pd.DataFrame(add_players_to_league(num_kicked, '2032', kicked_players, league_32)).T\n",
    "#new_players = get_pos(new_players)\n",
    "league = pd.concat([league, new_players], axis=0)\n",
    "#league = get_ovr(league)\n",
    "league.churn = league.churn.fillna(0)\n",
    "league.Year = league.Year.astype(str)\n",
    "league[['Leagues', 'Squads']]=league[['Leagues', 'Squads']].fillna('Tournament')"
   ]
  },
  {
   "cell_type": "code",
   "execution_count": 29,
   "metadata": {
    "collapsed": true
   },
   "outputs": [],
   "source": [
    "league['Efficiency'] = ((1/(1 + league['90s_Shooting'] + league['90s_Passing'] + league['90s_Defense'] + league['Playing Time 90s_Goalkeeping']))*(league['Gls_Shooting'] - \n",
    "                                                       league['Err_Defense'] + league['xA_Passing'] \n",
    "                                                           + league['W_Goalkeeping']))"
   ]
  },
  {
   "cell_type": "code",
   "execution_count": 30,
   "metadata": {
    "collapsed": true
   },
   "outputs": [],
   "source": [
    "league = league.drop([ \n",
    "       'Standard Sh_Shooting',\n",
    "       'Standard SoT%_Shooting', 'Standard Sh/90_Shooting',\n",
    "       'Standard SoT/90_Shooting', 'Standard G/Sh_Shooting',\n",
    "       'Standard FK_Shooting', 'Performance PK_Shooting',\n",
    "       'Performance PKatt_Shooting', 'Expected xG_Shooting',\n",
    "       'Expected npxG_Shooting', 'Expected npxG/Sh_Shooting',\n",
    "       'Expected G-xG_Shooting', 'Expected np:G-xG_Shooting', '90s_Passing',\n",
    "       'Total Cmp_Passing', 'Total Att_Passing', 'Total Cmp%_Passing',\n",
    "       'Total TotDist_Passing', 'Total PrgDist_Passing', 'Short Cmp_Passing',\n",
    "       'Short Att_Passing', 'Short Cmp%_Passing', 'Medium Cmp_Passing',\n",
    "       'Medium Att_Passing', 'Medium Cmp%_Passing', 'Long Cmp_Passing',\n",
    "       'Long Att_Passing', 'Long Cmp%_Passing', 'Ast_Passing',\n",
    "       'A-xA_Passing', 'KP_Passing', 'PPA_Passing',\n",
    "       'CrsPA_Passing', '90s_Defense', 'Tackles Tkl_Defense',\n",
    "       'Tackles TklW_Defense', 'Tackles Def 3rd_Defense',\n",
    "       'Tackles Mid 3rd_Defense', 'Tackles Att 3rd_Defense',\n",
    "       'Vs Dribbles Tkl_Defense', 'Vs Dribbles Att_Defense',\n",
    "       'Vs Dribbles Tkl%_Defense', 'Vs Dribbles Past_Defense',\n",
    "       'Pressures Press_Defense', 'Pressures Succ_Defense',\n",
    "       'Pressures %_Defense', 'Pressures Def 3rd_Defense',\n",
    "       'Pressures Mid 3rd_Defense', 'Pressures Att 3rd_Defense',\n",
    "       'Blocks Blocks_Defense', 'Blocks Sh_Defense', 'Blocks ShSv_Defense',\n",
    "       'Blocks Pass_Defense', 'Int_Defense', 'Playing Time MP_Goalkeeping',\n",
    "       'Playing Time Starts_Goalkeeping', 'Playing Time Min_Goalkeeping',\n",
    "       'Playing Time 90s_Goalkeeping', 'Performance GA_Goalkeeping',\n",
    "       'Performance GA90_Goalkeeping', 'Performance SoTA_Goalkeeping',\n",
    "       'Performance Saves_Goalkeeping',\n",
    "        'L_Goalkeeping',\n",
    "       'Performance CS_Goalkeeping', 'Performance CS%_Goalkeeping',\n",
    "       'Performance PKatt_Goalkeeping', 'Penalty Kicks PKA_Goalkeeping',\n",
    "       'Penalty Kicks PKsv_Goalkeeping', 'Penalty Kicks PKm_Goalkeeping',\n",
    "       'Penalty Kicks Save%_Goalkeeping'], axis = 1)"
   ]
  },
  {
   "cell_type": "code",
   "execution_count": 31,
   "metadata": {
    "collapsed": true
   },
   "outputs": [],
   "source": [
    "league.columns = ['Player', 'Nations', 'Salary', 'Squads', 'Positions', 'Leagues', 'Age',\n",
    "       'time', 'goals', 'sot', 'gps',\n",
    "       'dist', 'xa', 'cross','pass',\n",
    "       'def', 'err', 'd1', 'sv',\n",
    "       'w', 'd', 'churn', 'Year', 'eff']\n"
   ]
  },
  {
   "cell_type": "code",
   "execution_count": 32,
   "metadata": {
    "collapsed": true
   },
   "outputs": [],
   "source": [
    "league.Year = league.Year.astype(str)\n",
    "league.goals = league.goals.astype(float)"
   ]
  },
  {
   "cell_type": "code",
   "execution_count": 33,
   "metadata": {
    "collapsed": true
   },
   "outputs": [],
   "source": [
    "league.eff = league.eff.astype(float)"
   ]
  },
  {
   "cell_type": "markdown",
   "metadata": {},
   "source": [
    "# Linear Mixed Effects Model"
   ]
  },
  {
   "cell_type": "code",
   "execution_count": null,
   "metadata": {
    "collapsed": true
   },
   "outputs": [],
   "source": [
    "#league = league[league.Positions != '0']"
   ]
  },
  {
   "cell_type": "code",
   "execution_count": 35,
   "metadata": {
    "collapsed": true
   },
   "outputs": [],
   "source": [
    "league = league.dropna(axis=0)"
   ]
  },
  {
   "cell_type": "code",
   "execution_count": 36,
   "metadata": {},
   "outputs": [
    {
     "name": "stdout",
     "output_type": "stream",
     "text": [
      "             Mixed Linear Model Regression Results\n",
      "================================================================\n",
      "Model:               MixedLM    Dependent Variable:    eff      \n",
      "No. Observations:    51630      Method:                REML     \n",
      "No. Groups:          6553       Scale:                 0.0385   \n",
      "Min. group size:     1          Log-Likelihood:        6613.1033\n",
      "Max. group size:     13         Converged:             Yes      \n",
      "Mean group size:     7.9                                        \n",
      "----------------------------------------------------------------\n",
      "                      Coef.  Std.Err.   z    P>|z| [0.025 0.975]\n",
      "----------------------------------------------------------------\n",
      "Intercept              0.010    0.036  0.278 0.781 -0.060  0.080\n",
      "Leagues[T.B]           0.006    0.008  0.709 0.478 -0.011  0.023\n",
      "Leagues[T.C]           0.007    0.009  0.847 0.397 -0.010  0.024\n",
      "Leagues[T.D]           0.016    0.009  1.875 0.061 -0.001  0.033\n",
      "Leagues[T.E]           0.005    0.008  0.629 0.529 -0.011  0.022\n",
      "Leagues[T.RFL]         0.009    0.010  0.907 0.364 -0.010  0.028\n",
      "Leagues[T.Tournament]  0.013    0.007  1.764 0.078 -0.001  0.027\n",
      "Year[T.2021]          -0.006    0.005 -1.251 0.211 -0.016  0.004\n",
      "Year[T.2022]          -0.006    0.005 -1.285 0.199 -0.016  0.003\n",
      "Year[T.2023]          -0.007    0.005 -1.315 0.189 -0.016  0.003\n",
      "Year[T.2024]          -0.004    0.005 -0.908 0.364 -0.014  0.005\n",
      "Year[T.2025]          -0.004    0.005 -0.826 0.409 -0.013  0.005\n",
      "Year[T.2026]          -0.002    0.005 -0.437 0.662 -0.011  0.007\n",
      "Year[T.2027]          -0.015    0.005 -3.093 0.002 -0.024 -0.005\n",
      "Year[T.2028]          -0.007    0.005 -1.603 0.109 -0.017  0.002\n",
      "Year[T.2029]          -0.007    0.004 -1.681 0.093 -0.015  0.001\n",
      "Year[T.2030]          -0.007    0.005 -1.605 0.108 -0.016  0.002\n",
      "Year[T.2031]          -0.007    0.005 -1.616 0.106 -0.016  0.002\n",
      "Year[T.2032]          -0.014    0.164 -0.083 0.934 -0.335  0.308\n",
      "Positions[T.DF]       -0.009    0.035 -0.269 0.788 -0.078  0.059\n",
      "Positions[T.DFFW]      0.004    0.038  0.110 0.912 -0.071  0.080\n",
      "Positions[T.DFMF]     -0.004    0.036 -0.118 0.906 -0.075  0.067\n",
      "Positions[T.FW]        0.020    0.035  0.571 0.568 -0.049  0.089\n",
      "Positions[T.FWDF]      0.004    0.038  0.102 0.919 -0.070  0.078\n",
      "Positions[T.FWMF]      0.011    0.036  0.316 0.752 -0.058  0.081\n",
      "Positions[T.GK]       -0.001    0.036 -0.031 0.976 -0.071  0.069\n",
      "Positions[T.GKMF]     -0.030    0.111 -0.273 0.785 -0.248  0.188\n",
      "Positions[T.MF]        0.004    0.035  0.119 0.905 -0.065  0.073\n",
      "Positions[T.MFDF]      0.000    0.037  0.009 0.993 -0.073  0.074\n",
      "Positions[T.MFFW]      0.009    0.036  0.257 0.797 -0.061  0.079\n",
      "Group Var              0.015    0.003                           \n",
      "================================================================\n",
      "\n"
     ]
    },
    {
     "data": {
      "text/plain": [
       "Intercept                0.009960\n",
       "Leagues[T.B]             0.005981\n",
       "Leagues[T.C]             0.007385\n",
       "Leagues[T.D]             0.016169\n",
       "Leagues[T.E]             0.005290\n",
       "Leagues[T.RFL]           0.008949\n",
       "Leagues[T.Tournament]    0.012664\n",
       "Year[T.2021]            -0.006394\n",
       "Year[T.2022]            -0.006460\n",
       "Year[T.2023]            -0.006506\n",
       "Year[T.2024]            -0.004430\n",
       "Year[T.2025]            -0.003971\n",
       "Year[T.2026]            -0.002075\n",
       "Year[T.2027]            -0.014500\n",
       "Year[T.2028]            -0.007429\n",
       "Year[T.2029]            -0.006932\n",
       "Year[T.2030]            -0.007294\n",
       "Year[T.2031]            -0.007340\n",
       "Year[T.2032]            -0.013616\n",
       "Positions[T.DF]         -0.009454\n",
       "Positions[T.DFFW]        0.004241\n",
       "Positions[T.DFMF]       -0.004265\n",
       "Positions[T.FW]          0.020191\n",
       "Positions[T.FWDF]        0.003845\n",
       "Positions[T.FWMF]        0.011219\n",
       "Positions[T.GK]         -0.001097\n",
       "Positions[T.GKMF]       -0.030327\n",
       "Positions[T.MF]          0.004201\n",
       "Positions[T.MFDF]        0.000332\n",
       "Positions[T.MFFW]        0.009182\n",
       "Group Var                0.392432\n",
       "dtype: float64"
      ]
     },
     "execution_count": 36,
     "metadata": {},
     "output_type": "execute_result"
    }
   ],
   "source": [
    "mod = smf.mixedlm(\"eff ~ Leagues + Year + Positions\", league, groups=league[\"Player\"])\n",
    "mdf = mod.fit()\n",
    "print(mdf.summary())\n",
    "mdf.params"
   ]
  },
  {
   "cell_type": "code",
   "execution_count": 38,
   "metadata": {
    "collapsed": true
   },
   "outputs": [],
   "source": [
    "params = {\n",
    "    \"A\":0,\n",
    "    \"B\":-0.006394,\n",
    "    \"C\":0.007385,\n",
    "    \"D\":0.016564,\n",
    "    \"E\":0.005290,\n",
    "    \"RFL\":0.008949,\n",
    "    \"Tournament\":0.012664,\n",
    "    \"2020\":0,\n",
    "    \"2021\":-0.006394,\n",
    "    \"2022\":-0.006460,\n",
    "    \"2023\":-0.006506,\n",
    "    \"2024\":-0.004430,\n",
    "    \"2025\": -0.003971,\n",
    "    \"2026\":-0.002075,\n",
    "    \"2027\":-0.014500,\n",
    "    \"2028\": -0.007429,\n",
    "    \"2029\":-0.006932,\n",
    "    \"2030\": -0.007340,\n",
    "    \"2031\":-0.013616,\n",
    "    \"2032\":-0.013616,\n",
    "    \"0\":0,\n",
    "    \"DF\":-0.009454,\n",
    "    \"DFFW\":0.004241,\n",
    "    \"DFMF\": -0.004265,\n",
    "    \"FW\":0.020191,\n",
    "    \"FWDF\":0.003845,\n",
    "    \"FWMF\":0.011219,\n",
    "    \"GK\":-0.001097,\n",
    "    \"GKMF\":-0.030327,\n",
    "    \"MF\":0.004201,\n",
    "    \"MFDF\":0.000332,\n",
    "    'MFFW':0.009182\n",
    "}\n",
    "\n",
    "\n",
    "def get_adjusted_ovr(eff, year, league, pos, params):\n",
    "\n",
    "    new_ovr =  0.026699 + eff*params[year] + eff*params[league] + eff*params[pos]\n",
    "    \n",
    "    return new_ovr\n",
    "\n",
    "\n",
    "\n",
    "league['adjust_ovr'] = (league.apply(lambda x:get_adjusted_ovr(x['eff'], x['Year'], \n",
    "                                x['Leagues'],x['Positions'],params), axis=1))\n",
    "\n"
   ]
  },
  {
   "cell_type": "code",
   "execution_count": 40,
   "metadata": {},
   "outputs": [
    {
     "name": "stdout",
     "output_type": "stream",
     "text": [
      "MinMaxScaler()\n"
     ]
    }
   ],
   "source": [
    "from sklearn.preprocessing import MinMaxScaler\n",
    "\n",
    "scaler = MinMaxScaler()\n",
    "\n",
    "print(scaler.fit(league.adjust_ovr.values.reshape(-1, 1)))\n",
    "\n",
    "league['test'] = scaler.transform(league.adjust_ovr.values.reshape(-1, 1))"
   ]
  },
  {
   "cell_type": "code",
   "execution_count": null,
   "metadata": {
    "collapsed": true
   },
   "outputs": [],
   "source": [
    "(league['test'] - np.mean(league['test']))/np.std(league['test'])"
   ]
  },
  {
   "cell_type": "code",
   "execution_count": 43,
   "metadata": {
    "collapsed": true
   },
   "outputs": [],
   "source": [
    "league['test'] = 100*league['test']"
   ]
  },
  {
   "cell_type": "code",
   "execution_count": 51,
   "metadata": {},
   "outputs": [
    {
     "data": {
      "text/plain": [
       "51630"
      ]
     },
     "execution_count": 51,
     "metadata": {},
     "output_type": "execute_result"
    }
   ],
   "source": [
    "len(league)"
   ]
  },
  {
   "cell_type": "code",
   "execution_count": 60,
   "metadata": {},
   "outputs": [
    {
     "data": {
      "image/png": "[encoded data removed]",
      "text/plain": [
       "<Figure size 1800x720 with 1 Axes>"
      ]
     },
     "metadata": {
      "needs_background": "light"
     },
     "output_type": "display_data"
    }
   ],
   "source": [
    "plt.hist(league_test2['adjust_ovr'])\n",
    "plt.show()"
   ]
  },
  {
   "cell_type": "code",
   "execution_count": 56,
   "metadata": {
    "collapsed": true
   },
   "outputs": [],
   "source": [
    "league_test = league[(league.adjust_ovr > (np.mean(league['adjust_ovr']) - 3*np.std(league['adjust_ovr'])))&\n",
    "      \n",
    "      (league.adjust_ovr < (np.mean(league['adjust_ovr']) + 3*np.std(league['adjust_ovr'])))]"
   ]
  },
  {
   "cell_type": "markdown",
   "metadata": {},
   "source": [
    "# Adjust Overall Ratings"
   ]
  },
  {
   "cell_type": "code",
   "execution_count": 58,
   "metadata": {
    "collapsed": true
   },
   "outputs": [],
   "source": [
    "def normalize(league, year):\n",
    "    league = league[league.Year == year]\n",
    "    #league['adjust_ovr'] = league['adjust_ovr'].fillna(league['Ovr'])\n",
    "    league['adjust_ovr'] = abs(league['adjust_ovr'] - min(league['adjust_ovr']))/(max(league['adjust_ovr']) - min(league['adjust_ovr']))\n",
    "    league['adjust_ovr'] = league['adjust_ovr']*100\n",
    "    return league\n",
    "\n",
    "l1 = normalize(league_test, \"2020\")\n",
    "l2 = normalize(league_test, \"2021\")\n",
    "l3 = normalize(league_test, \"2022\")\n",
    "l4 = normalize(league_test, \"2023\")\n",
    "l5 = normalize(league_test, \"2024\")\n",
    "l6 = normalize(league_test, \"2025\")\n",
    "l7 = normalize(league_test, \"2026\")\n",
    "l8 = normalize(league_test, \"2027\")\n",
    "l9 = normalize(league_test, \"2028\")\n",
    "l10 = normalize(league_test, \"2029\")\n",
    "l11 = normalize(league_test, \"2030\")\n",
    "l12 = normalize(league_test, \"2031\")\n",
    "l13 = normalize(league_test, \"2032\")\n",
    "\n",
    "league_test2 = pd.concat([l1,l2, l3, l4, l5, l6, l7, l8, l9, l10, l11, l12, l13], axis=0)\n",
    "\n"
   ]
  },
  {
   "cell_type": "code",
   "execution_count": 61,
   "metadata": {
    "collapsed": true
   },
   "outputs": [],
   "source": [
    "league_test2.to_csv(\"soa_2020_2030.csv\")"
   ]
  },
  {
   "cell_type": "markdown",
   "metadata": {},
   "source": [
    "# Build Team for Each Nation"
   ]
  },
  {
   "cell_type": "code",
   "execution_count": 62,
   "metadata": {
    "collapsed": true
   },
   "outputs": [],
   "source": [
    "def get_trim_roster(df_roster, team):\n",
    "    \n",
    "    gk = ['GK', 'GKMF',  'MFGK']\n",
    "\n",
    "    test = df_roster[df_roster.Nations == team].drop_duplicates('Player', keep='last')\n",
    "    \n",
    "#     test.loc[test.Pos == 'M', 'Ovr'] = test['adjust_ovr']\n",
    "#     test.loc[test.Pos == 'F', 'Ovr'] = test['adjust_ovr']\n",
    "#     test.loc[test.Pos == 'D', 'Ovr'] = test['adjust_ovr']\n",
    "#     test.loc[test.Pos == 'G', 'Ovr'] = test['adjust_ovr']\n",
    "    \n",
    "    gks = test[test.Positions.isin(gk)].sort_values('adjust_ovr', ascending = False).head(2)\n",
    "    \n",
    "    test = test.sort_values('adjust_ovr', ascending = False).head(22)\n",
    "    \n",
    "    test = pd.concat([test, gks], axis=0)\n",
    "    \n",
    "    if (len(test) < 18)|(len(gks) < 1):\n",
    "        pass\n",
    "    \n",
    "    \n",
    "    #testfull = testfull.drop(['player_name_x', 'player_name_y','player_id', 'team_id', 'game_id' ], axis=1)\n",
    "    else:\n",
    "        return test\n",
    "\n",
    "df_roster = pd.DataFrame()\n",
    "\n",
    "for i in league_test2.Nations.unique():\n",
    "    df_team = get_trim_roster(league_test2[league_test2.Year == '2021'], i)\n",
    "    df_roster = pd.concat([df_roster,df_team])"
   ]
  },
  {
   "cell_type": "code",
   "execution_count": 63,
   "metadata": {},
   "outputs": [
    {
     "data": {
      "text/html": [
       "<div>\n",
       "<style scoped>\n",
       "    .dataframe tbody tr th:only-of-type {\n",
       "        vertical-align: middle;\n",
       "    }\n",
       "\n",
       "    .dataframe tbody tr th {\n",
       "        vertical-align: top;\n",
       "    }\n",
       "\n",
       "    .dataframe thead th {\n",
       "        text-align: right;\n",
       "    }\n",
       "</style>\n",
       "<table border=\"1\" class=\"dataframe\">\n",
       "  <thead>\n",
       "    <tr style=\"text-align: right;\">\n",
       "      <th></th>\n",
       "      <th>Nations</th>\n",
       "      <th>adjust_ovr</th>\n",
       "    </tr>\n",
       "  </thead>\n",
       "  <tbody>\n",
       "    <tr>\n",
       "      <th>29</th>\n",
       "      <td>Sobianitedrucy</td>\n",
       "      <td>63.153043</td>\n",
       "    </tr>\n",
       "    <tr>\n",
       "      <th>20</th>\n",
       "      <td>Nganion</td>\n",
       "      <td>57.752785</td>\n",
       "    </tr>\n",
       "    <tr>\n",
       "      <th>5</th>\n",
       "      <td>Dosqaly</td>\n",
       "      <td>55.148829</td>\n",
       "    </tr>\n",
       "    <tr>\n",
       "      <th>26</th>\n",
       "      <td>Rarita</td>\n",
       "      <td>55.134366</td>\n",
       "    </tr>\n",
       "    <tr>\n",
       "      <th>8</th>\n",
       "      <td>Esia</td>\n",
       "      <td>54.614661</td>\n",
       "    </tr>\n",
       "    <tr>\n",
       "      <th>22</th>\n",
       "      <td>Nkasland Cronestan</td>\n",
       "      <td>54.447375</td>\n",
       "    </tr>\n",
       "    <tr>\n",
       "      <th>2</th>\n",
       "      <td>Byasier Pujan</td>\n",
       "      <td>53.644579</td>\n",
       "    </tr>\n",
       "    <tr>\n",
       "      <th>12</th>\n",
       "      <td>Imaar Vircoand</td>\n",
       "      <td>53.530835</td>\n",
       "    </tr>\n",
       "    <tr>\n",
       "      <th>17</th>\n",
       "      <td>Manlisgamncent</td>\n",
       "      <td>53.473892</td>\n",
       "    </tr>\n",
       "    <tr>\n",
       "      <th>11</th>\n",
       "      <td>Greri Landmoslands</td>\n",
       "      <td>51.791025</td>\n",
       "    </tr>\n",
       "    <tr>\n",
       "      <th>27</th>\n",
       "      <td>Rosvi</td>\n",
       "      <td>51.576856</td>\n",
       "    </tr>\n",
       "    <tr>\n",
       "      <th>34</th>\n",
       "      <td>Xikong</td>\n",
       "      <td>51.542814</td>\n",
       "    </tr>\n",
       "    <tr>\n",
       "      <th>33</th>\n",
       "      <td>Western Niasland</td>\n",
       "      <td>51.199186</td>\n",
       "    </tr>\n",
       "    <tr>\n",
       "      <th>14</th>\n",
       "      <td>Lefghau</td>\n",
       "      <td>51.173581</td>\n",
       "    </tr>\n",
       "    <tr>\n",
       "      <th>23</th>\n",
       "      <td>People's Land of Maneau</td>\n",
       "      <td>51.131960</td>\n",
       "    </tr>\n",
       "    <tr>\n",
       "      <th>32</th>\n",
       "      <td>Varijitri Isles</td>\n",
       "      <td>50.609637</td>\n",
       "    </tr>\n",
       "    <tr>\n",
       "      <th>18</th>\n",
       "      <td>Mico</td>\n",
       "      <td>50.518259</td>\n",
       "    </tr>\n",
       "    <tr>\n",
       "      <th>10</th>\n",
       "      <td>Giumle Lizeibon</td>\n",
       "      <td>50.483096</td>\n",
       "    </tr>\n",
       "    <tr>\n",
       "      <th>30</th>\n",
       "      <td>Southern Ristan</td>\n",
       "      <td>50.452653</td>\n",
       "    </tr>\n",
       "    <tr>\n",
       "      <th>9</th>\n",
       "      <td>Galamily</td>\n",
       "      <td>50.183111</td>\n",
       "    </tr>\n",
       "    <tr>\n",
       "      <th>4</th>\n",
       "      <td>Djipines</td>\n",
       "      <td>50.114461</td>\n",
       "    </tr>\n",
       "    <tr>\n",
       "      <th>0</th>\n",
       "      <td>Bernepamar</td>\n",
       "      <td>49.975615</td>\n",
       "    </tr>\n",
       "    <tr>\n",
       "      <th>25</th>\n",
       "      <td>Quewenia</td>\n",
       "      <td>49.919056</td>\n",
       "    </tr>\n",
       "    <tr>\n",
       "      <th>7</th>\n",
       "      <td>Eastern Sleboube</td>\n",
       "      <td>49.875230</td>\n",
       "    </tr>\n",
       "  </tbody>\n",
       "</table>\n",
       "</div>"
      ],
      "text/plain": [
       "                    Nations  adjust_ovr\n",
       "29           Sobianitedrucy   63.153043\n",
       "20                  Nganion   57.752785\n",
       "5                   Dosqaly   55.148829\n",
       "26                   Rarita   55.134366\n",
       "8                      Esia   54.614661\n",
       "22       Nkasland Cronestan   54.447375\n",
       "2             Byasier Pujan   53.644579\n",
       "12           Imaar Vircoand   53.530835\n",
       "17           Manlisgamncent   53.473892\n",
       "11       Greri Landmoslands   51.791025\n",
       "27                    Rosvi   51.576856\n",
       "34                   Xikong   51.542814\n",
       "33         Western Niasland   51.199186\n",
       "14                  Lefghau   51.173581\n",
       "23  People's Land of Maneau   51.131960\n",
       "32          Varijitri Isles   50.609637\n",
       "18                     Mico   50.518259\n",
       "10          Giumle Lizeibon   50.483096\n",
       "30          Southern Ristan   50.452653\n",
       "9                  Galamily   50.183111\n",
       "4                  Djipines   50.114461\n",
       "0                Bernepamar   49.975615\n",
       "25                 Quewenia   49.919056\n",
       "7          Eastern Sleboube   49.875230"
      ]
     },
     "execution_count": 63,
     "metadata": {},
     "output_type": "execute_result"
    }
   ],
   "source": [
    "team_ratings = df_roster.groupby('Nations')['adjust_ovr'].mean().reset_index()\n",
    "\n",
    "team_ratings.sort_values(by = 'adjust_ovr', ascending=False).head(24)\n"
   ]
  },
  {
   "cell_type": "code",
   "execution_count": 64,
   "metadata": {},
   "outputs": [
    {
     "data": {
      "text/plain": [
       "189170000"
      ]
     },
     "execution_count": 64,
     "metadata": {},
     "output_type": "execute_result"
    }
   ],
   "source": [
    "df_roster[df_roster.Nations == 'Rarita']['Salary'].sum()"
   ]
  },
  {
   "cell_type": "code",
   "execution_count": null,
   "metadata": {
    "collapsed": true
   },
   "outputs": [],
   "source": [
    "league['adjust_ovr'].hist()\n",
    "plt.show()"
   ]
  },
  {
   "cell_type": "code",
   "execution_count": null,
   "metadata": {
    "collapsed": true
   },
   "outputs": [],
   "source": [
    "plt.hist(100*league[league.Year == '2023']['adjust_ovr']/max(league[league.Year == '2023']['adjust_ovr']))\n",
    "plt.show()"
   ]
  },
  {
   "cell_type": "code",
   "execution_count": null,
   "metadata": {
    "collapsed": true
   },
   "outputs": [],
   "source": []
  },
  {
   "cell_type": "code",
   "execution_count": null,
   "metadata": {
    "collapsed": true
   },
   "outputs": [],
   "source": []
  }
 ],
 "metadata": {
  "kernelspec": {
   "display_name": "Python 3",
   "language": "python",
   "name": "python3"
  },
  "language_info": {
   "codemirror_mode": {
    "name": "ipython",
    "version": 3
   },
   "file_extension": ".py",
   "mimetype": "text/x-python",
   "name": "python",
   "nbconvert_exporter": "python",
   "pygments_lexer": "ipython3",
   "version": "3.6.3"
  }
 },
 "nbformat": 4,
 "nbformat_minor": 5
}
