{
 "cells": [
  {
   "cell_type": "code",
   "execution_count": 1,
   "metadata": {
    "collapsed": true
   },
   "outputs": [],
   "source": [
    "import pandas as pd\n",
    "import names\n",
    "from sklearn.neural_network import MLPClassifier\n",
    "from sklearn.model_selection import train_test_split\n",
    "from sklearn.linear_model import LogisticRegression\n",
    "from sklearn import preprocessing\n",
    "import random\n",
    "from pyqubo import Constraint, Array\n",
    "import neal\n",
    "from dwave.system import LeapHybridSampler\n",
    "import numpy as np\n",
    "from collections import Counter\n",
    "import matplotlib.pyplot as plt\n",
    "import sqlite3\n",
    "import statsmodels.api as sm\n",
    "import statsmodels.formula.api as smf\n",
    "plt.rcParams[\"figure.figsize\"] = (25,8)\n",
    "\n",
    "import warnings\n",
    "warnings.filterwarnings('ignore')\n",
    "plt.rcParams[\"figure.figsize\"] = (25,10)\n",
    "plt.rcParams.update({'font.size': 22})"
   ]
  },
  {
   "cell_type": "code",
   "execution_count": 2,
   "metadata": {
    "collapsed": true
   },
   "outputs": [],
   "source": [
    "df = pd.read_csv(\"soa_2020_2030.csv\")\n",
    "df.loc[df.Nations != 'Rarita', 'Salary'] = df.loc[df.Nations != 'Rarita']['Salary']*1.1\n",
    "df.loc[df.Nations == 'Rarita', 'Salary'] = df.loc[df.Nations == 'Rarita']['Salary']*0.9\n",
    "df.loc[df.Nations == 'Rarita', 'adjust_ovr'] = df.loc[df.Nations == 'Rarita']['adjust_ovr']*1.1\n",
    "\n",
    "df_no_rar = df[df.Nations != 'Rarita']"
   ]
  },
  {
   "cell_type": "code",
   "execution_count": 3,
   "metadata": {
    "collapsed": true
   },
   "outputs": [],
   "source": [
    "sell_2022 = df[(df.Year==2022)&(df.adjust_ovr > df['adjust_ovr'].mean())&(df.Nations == 'Rarita')&(df.Age > 33)]['Player'].to_list()\n",
    "\n",
    "df.loc[df.Player.isin(sell_2022), 'Nations'] = random.choices(list(df_no_rar.Nations.unique()), k=1)[0]\n",
    "df.loc[df.Player.isin(sell_2022), 'Salary'] = df.loc[df.Player.isin(sell_2022)]['Salary']*1.1"
   ]
  },
  {
   "cell_type": "code",
   "execution_count": 241,
   "metadata": {
    "collapsed": true
   },
   "outputs": [],
   "source": [
    "def get_team(df, year, num_sims, salary, max_ovr, min_ovr, max_age):\n",
    "    \n",
    "    gks = [ 'GK', 'GKMF', ]\n",
    "    \n",
    "    df_year = df[(df.Year == year)&(df.Salary > 0)&(df.adjust_ovr < max_ovr)&(df.adjust_ovr > min_ovr)&(df.Age < max_age)]\n",
    "    \n",
    "    df_trim = df_year[['Player', 'adjust_ovr', 'Salary', 'Nations', 'Age', 'Positions', 'Leagues']]\n",
    "\n",
    "    player_dict = df_trim.set_index('Player').to_dict('index')\n",
    "    \n",
    "    df_year_gk = df_year[df_year.Positions.isin(gks)]\n",
    "    \n",
    "    df_year_no_gk = df_year[~df_year.Positions.isin(gks)]\n",
    "    \n",
    "    players_to_choose = list(df_year_no_gk['Player'].unique())\n",
    "    gk_to_choose = list(df_year_gk['Player'].unique())\n",
    "    \n",
    "    sals = []\n",
    "    ovrs = []\n",
    "    teams = []\n",
    "\n",
    "    for i in range(num_sims):\n",
    "\n",
    "        players = random.choices(players_to_choose, k=14)\n",
    "        gk = random.choices(gk_to_choose, k=1)\n",
    "\n",
    "        players = list(np.unique(players))\n",
    "        gk = list(np.unique(gk))\n",
    "        \n",
    "        sal = 0\n",
    "        ovr = 0\n",
    "        team = []\n",
    "        \n",
    "        players_tot = players + gk\n",
    "        \n",
    "        for k in players_tot:\n",
    "                \n",
    "            sal += player_dict[k]['Salary']\n",
    "            ovr += player_dict[k]['adjust_ovr']\n",
    "            team.append(k)\n",
    "\n",
    "            \n",
    "        if (sal > salary):\n",
    "                \n",
    "            pass\n",
    "            \n",
    "        else:\n",
    "                \n",
    "            teams.append(team)\n",
    "            sals.append(sal)\n",
    "            ovrs.append(ovr/18)\n",
    "            \n",
    "            \n",
    "            break\n",
    "        \n",
    "    return teams, sals, ovrs"
   ]
  },
  {
   "cell_type": "code",
   "execution_count": 11,
   "metadata": {
    "collapsed": true
   },
   "outputs": [],
   "source": [
    "def get_lineup(df, year, num_sims, salary, max_ovr, min_ovr, max_age):\n",
    "    \n",
    "    x,y,z = get_team(df, year, num_sims, salary, max_ovr, min_ovr, max_age)\n",
    "    \n",
    "    try:\n",
    "        index = z.index(max(z))\n",
    "    \n",
    "        print('Overall')\n",
    "        print(z[index])\n",
    "        print('Salary')\n",
    "        print(y[index])\n",
    "\n",
    "        lineup = df[df.Player.isin(x[index])&(df.Year==year)]\n",
    "        \n",
    "    except:\n",
    "        print('No solution found')\n",
    "        \n",
    "    return lineup"
   ]
  },
  {
   "cell_type": "code",
   "execution_count": 6,
   "metadata": {
    "collapsed": true
   },
   "outputs": [],
   "source": [
    "df = df.drop_duplicates(['Player', 'Year'])"
   ]
  },
  {
   "cell_type": "code",
   "execution_count": 331,
   "metadata": {},
   "outputs": [
    {
     "name": "stdout",
     "output_type": "stream",
     "text": [
      "Overall\n",
      "20.39657483507797\n",
      "Salary\n",
      "188329399.5\n"
     ]
    }
   ],
   "source": [
    "lineup_22 = get_lineup(df, 2022, 10000000, 200000000,45, 10, 50)"
   ]
  },
  {
   "cell_type": "code",
   "execution_count": 332,
   "metadata": {},
   "outputs": [
    {
     "name": "stdout",
     "output_type": "stream",
     "text": [
      "Overall\n",
      "26.878602812735398\n",
      "Salary\n",
      "314153516.6\n"
     ]
    }
   ],
   "source": [
    "lineup_221 = get_lineup(df, 2022, 10000000, 400000000,45, 10, 50)"
   ]
  },
  {
   "cell_type": "code",
   "execution_count": 333,
   "metadata": {},
   "outputs": [
    {
     "name": "stdout",
     "output_type": "stream",
     "text": [
      "Overall\n",
      "40.69199929428425\n",
      "Salary\n",
      "431898498.90000004\n"
     ]
    }
   ],
   "source": [
    "lineup_222 = get_lineup(df, 2022, 10000000, 500000000,55, 20, 50)"
   ]
  },
  {
   "cell_type": "code",
   "execution_count": 334,
   "metadata": {},
   "outputs": [
    {
     "name": "stdout",
     "output_type": "stream",
     "text": [
      "Overall\n",
      "42.27646245683886\n",
      "Salary\n",
      "578988960.0\n"
     ]
    }
   ],
   "source": [
    "lineup_223 = get_lineup(df, 2022, 10000000, 600000000,65, 20, 50)"
   ]
  },
  {
   "cell_type": "code",
   "execution_count": 335,
   "metadata": {},
   "outputs": [
    {
     "name": "stdout",
     "output_type": "stream",
     "text": [
      "Overall\n",
      "41.516249986659105\n",
      "Salary\n",
      "603661163.6\n"
     ]
    }
   ],
   "source": [
    "lineup_224 = get_lineup(df, 2022, 10000000, 700000000,75, 30, 50)"
   ]
  },
  {
   "cell_type": "code",
   "execution_count": 336,
   "metadata": {},
   "outputs": [
    {
     "name": "stdout",
     "output_type": "stream",
     "text": [
      "Overall\n",
      "42.833710019561295\n",
      "Salary\n",
      "757691371.8000001\n"
     ]
    }
   ],
   "source": [
    "lineup_22 = get_lineup(df, 2022, 10000000, 800000000,85, 30, 50)"
   ]
  },
  {
   "cell_type": "code",
   "execution_count": null,
   "metadata": {
    "collapsed": true
   },
   "outputs": [],
   "source": []
  },
  {
   "cell_type": "code",
   "execution_count": 343,
   "metadata": {},
   "outputs": [
    {
     "data": {
      "image/png": "[encoded data removed]",
      "text/plain": [
       "<Figure size 1800x720 with 1 Axes>"
      ]
     },
     "metadata": {
      "needs_background": "light"
     },
     "output_type": "display_data"
    }
   ],
   "source": [
    "plt.plot([188, 314, 431, 578, 603, 757],[0.1, 4, 14, 21, 35, 46])\n",
    "plt.title('Probability of Winning as Spending Increases')\n",
    "plt.xlabel('Total Salary (Hundreads of Millions')\n",
    "plt.ylabel('Probability of Top 10 Finish')\n",
    "plt.show()"
   ]
  },
  {
   "cell_type": "code",
   "execution_count": null,
   "metadata": {
    "collapsed": true
   },
   "outputs": [],
   "source": []
  },
  {
   "cell_type": "code",
   "execution_count": null,
   "metadata": {
    "collapsed": true
   },
   "outputs": [],
   "source": []
  },
  {
   "cell_type": "code",
   "execution_count": null,
   "metadata": {
    "collapsed": true
   },
   "outputs": [],
   "source": []
  },
  {
   "cell_type": "markdown",
   "metadata": {},
   "source": [
    "# 2023"
   ]
  },
  {
   "cell_type": "code",
   "execution_count": 35,
   "metadata": {},
   "outputs": [
    {
     "name": "stdout",
     "output_type": "stream",
     "text": [
      "Overall\n",
      "40.6697039003161\n",
      "Salary\n",
      "251531499.84600002\n"
     ]
    }
   ],
   "source": [
    "lineup_23 = get_lineup(df, 2023, 10000000, 280000000,50, 20, 50)"
   ]
  },
  {
   "cell_type": "markdown",
   "metadata": {},
   "source": [
    "# 2024"
   ]
  },
  {
   "cell_type": "code",
   "execution_count": 49,
   "metadata": {},
   "outputs": [
    {
     "name": "stdout",
     "output_type": "stream",
     "text": [
      "Overall\n",
      "47.97415898677309\n",
      "Salary\n",
      "355891372.30200005\n"
     ]
    }
   ],
   "source": [
    "lineup_24 = get_lineup(df, 2024, 10000000, 450000000,65, 35, 50)"
   ]
  },
  {
   "cell_type": "code",
   "execution_count": 50,
   "metadata": {},
   "outputs": [
    {
     "name": "stdout",
     "output_type": "stream",
     "text": [
      "Overall\n",
      "48.906000249369235\n",
      "Salary\n",
      "423952959.0180001\n"
     ]
    }
   ],
   "source": [
    "lineup_25 = get_lineup(df, 2025, 10000000, 450000000,65, 35, 50)"
   ]
  },
  {
   "cell_type": "code",
   "execution_count": 56,
   "metadata": {},
   "outputs": [
    {
     "name": "stdout",
     "output_type": "stream",
     "text": [
      "Overall\n",
      "49.214736443899014\n",
      "Salary\n",
      "458624631.94200015\n"
     ]
    }
   ],
   "source": [
    "lineup_26 = get_lineup(df, 2026, 10000000, 500000000,70, 40, 35)"
   ]
  },
  {
   "cell_type": "code",
   "execution_count": null,
   "metadata": {
    "collapsed": true
   },
   "outputs": [],
   "source": []
  },
  {
   "cell_type": "code",
   "execution_count": 78,
   "metadata": {},
   "outputs": [
    {
     "name": "stdout",
     "output_type": "stream",
     "text": [
      "Overall\n",
      "18.400033180280218\n",
      "Salary\n",
      "268095749.196\n"
     ]
    }
   ],
   "source": [
    "lineup_27 = get_lineup(df, 2027, 10000000, 300000000,45, 20, 50)"
   ]
  },
  {
   "cell_type": "code",
   "execution_count": 205,
   "metadata": {},
   "outputs": [
    {
     "name": "stdout",
     "output_type": "stream",
     "text": [
      "Overall\n",
      "69.05339110064202\n",
      "Salary\n",
      "1476312569.6880002\n"
     ]
    }
   ],
   "source": [
    "lineup_28 = get_lineup(df, 2028, 10000, 1500000000,100, 74, 50)"
   ]
  },
  {
   "cell_type": "code",
   "execution_count": 253,
   "metadata": {},
   "outputs": [
    {
     "data": {
      "text/plain": [
       "678144746.1060001"
      ]
     },
     "execution_count": 253,
     "metadata": {},
     "output_type": "execute_result"
    }
   ],
   "source": [
    "df[(df.Year == 2029)&(df.Nations == 'Rarita')&(df.Age > 38)]['Salary'].sum()"
   ]
  },
  {
   "cell_type": "code",
   "execution_count": null,
   "metadata": {
    "collapsed": true
   },
   "outputs": [],
   "source": []
  },
  {
   "cell_type": "code",
   "execution_count": 255,
   "metadata": {},
   "outputs": [
    {
     "name": "stdout",
     "output_type": "stream",
     "text": [
      "Overall\n",
      "23.913212253195027\n",
      "Salary\n",
      "561215903.6\n"
     ]
    }
   ],
   "source": [
    "lineup_29 = get_lineup(df, 2029, 100000, 600000000,45, 10, 50)"
   ]
  },
  {
   "cell_type": "code",
   "execution_count": 256,
   "metadata": {},
   "outputs": [
    {
     "name": "stdout",
     "output_type": "stream",
     "text": [
      "Overall\n",
      "25.49137853936236\n",
      "Salary\n",
      "521490801.9420001\n"
     ]
    }
   ],
   "source": [
    "lineup_30 = get_lineup(df, 2030, 10000000, 600000000,45, 10, 50)"
   ]
  },
  {
   "cell_type": "code",
   "execution_count": 257,
   "metadata": {},
   "outputs": [
    {
     "name": "stdout",
     "output_type": "stream",
     "text": [
      "Overall\n",
      "35.71339328709427\n",
      "Salary\n",
      "654192911.6940001\n"
     ]
    }
   ],
   "source": [
    "lineup_31 = get_lineup(df, 2031, 10000000, 700000000,50, 55, 50)"
   ]
  },
  {
   "cell_type": "code",
   "execution_count": null,
   "metadata": {
    "collapsed": true
   },
   "outputs": [],
   "source": []
  },
  {
   "cell_type": "code",
   "execution_count": 281,
   "metadata": {
    "collapsed": true
   },
   "outputs": [],
   "source": [
    "rarita_players_22 = df[df.Player.isin(lineup_22.Player.to_list())].Player.to_list()\n",
    "\n",
    "def get_trim_roster(df_roster, team):\n",
    "    \n",
    "    gk = ['GK', 'GKMF',  'MFGK']\n",
    "\n",
    "    test = df_roster[df_roster.Nations == team].drop_duplicates('Player', keep='last')\n",
    "\n",
    "    \n",
    "    gks = test[test.Positions.isin(gk)].sort_values('adjust_ovr', ascending = False).head(2)\n",
    "    \n",
    "    test = test.sort_values('adjust_ovr', ascending = False).head(18)\n",
    "    \n",
    "    test = pd.concat([test, gks], axis=0)\n",
    "    \n",
    "    if (len(test) < 18)|(len(gks) < 1):\n",
    "        pass\n",
    "    \n",
    "    else:\n",
    "        test = test.head(18)\n",
    "        \n",
    "        \n",
    "        return test\n",
    "\n",
    "df_roster = pd.DataFrame()\n",
    "\n",
    "for i in df_no_rar.Nations.unique():\n",
    "    df_team = get_trim_roster(df_no_rar[(df_no_rar.Year == 2022)&(~df_no_rar.Player.isin(rarita_players_22))], i)\n",
    "    df_roster = pd.concat([df_roster,df_team])"
   ]
  },
  {
   "cell_type": "code",
   "execution_count": 282,
   "metadata": {
    "collapsed": true
   },
   "outputs": [],
   "source": [
    "team_ratings_22 = df_roster.groupby('Nations')['adjust_ovr'].mean().reset_index()\n",
    "\n",
    "team_ratings_22 = team_ratings_22.sort_values(by = 'adjust_ovr', ascending=False).head(23)\n",
    "team_ratings_22.loc[-1] = ['Rarita', 22.145670519276297]\n",
    "team_ratings_22 = team_ratings_22.reset_index(drop = True)"
   ]
  },
  {
   "cell_type": "markdown",
   "metadata": {},
   "source": [
    "# 2023"
   ]
  },
  {
   "cell_type": "code",
   "execution_count": 283,
   "metadata": {
    "collapsed": true
   },
   "outputs": [],
   "source": [
    "rarita_players_23 = lineup_23.Player.to_list()\n",
    "\n",
    "df_roster = pd.DataFrame()\n",
    "\n",
    "for i in df_no_rar.Nations.unique():\n",
    "    df_team = get_trim_roster(df_no_rar[(df_no_rar.Year == 2023)&(~df_no_rar.Player.isin(rarita_players_23))], i)\n",
    "    df_roster = pd.concat([df_roster,df_team])\n",
    "    \n",
    "team_ratings23 = df_roster.groupby('Nations')['adjust_ovr'].mean().reset_index()\n",
    "\n",
    "team_ratings23 = team_ratings23.sort_values(by = 'adjust_ovr', ascending=False).head(23)\n",
    "team_ratings23.loc[-1] = ['Rarita', 40.6697039003161]\n",
    "team_ratings23 = team_ratings23.reset_index(drop = True)\n"
   ]
  },
  {
   "cell_type": "markdown",
   "metadata": {},
   "source": [
    "# 2024"
   ]
  },
  {
   "cell_type": "code",
   "execution_count": 284,
   "metadata": {
    "collapsed": true
   },
   "outputs": [],
   "source": [
    "rarita_players_24 = lineup_24.Player.to_list()\n",
    "\n",
    "df_roster = pd.DataFrame()\n",
    "\n",
    "for i in df_no_rar.Nations.unique():\n",
    "    df_team = get_trim_roster(df_no_rar[(df_no_rar.Year == 2024)&(~df_no_rar.Player.isin(rarita_players_24))], i)\n",
    "    df_roster = pd.concat([df_roster,df_team])\n",
    "    \n",
    "team_ratings24 = df_roster.groupby('Nations')['adjust_ovr'].mean().reset_index()\n",
    "\n",
    "team_ratings24 = team_ratings24.sort_values(by = 'adjust_ovr', ascending=False).head(23)\n",
    "team_ratings24.loc[-1] = ['Rarita', 47.97415898677309]\n",
    "team_ratings24 = team_ratings24.reset_index(drop = True)"
   ]
  },
  {
   "cell_type": "markdown",
   "metadata": {},
   "source": [
    "# 2025"
   ]
  },
  {
   "cell_type": "code",
   "execution_count": 285,
   "metadata": {
    "collapsed": true
   },
   "outputs": [],
   "source": [
    "rarita_players_25 = lineup_25.Player.to_list()\n",
    "\n",
    "df_roster = pd.DataFrame()\n",
    "\n",
    "for i in df_no_rar.Nations.unique():\n",
    "    df_team = get_trim_roster(df_no_rar[(df_no_rar.Year == 2025)&(~df_no_rar.Player.isin(rarita_players_25))], i)\n",
    "    df_roster = pd.concat([df_roster,df_team])\n",
    "    \n",
    "team_ratings25 = df_roster.groupby('Nations')['adjust_ovr'].mean().reset_index()\n",
    "\n",
    "team_ratings25 = team_ratings25.sort_values(by = 'adjust_ovr', ascending=False).head(23)\n",
    "team_ratings25.loc[-1] = ['Rarita', 48.906000249369235]\n",
    "team_ratings25 = team_ratings25.reset_index(drop = True)"
   ]
  },
  {
   "cell_type": "code",
   "execution_count": 286,
   "metadata": {
    "collapsed": true
   },
   "outputs": [],
   "source": [
    "rarita_players_26 = lineup_26.Player.to_list()\n",
    "\n",
    "df_roster = pd.DataFrame()\n",
    "\n",
    "for i in df_no_rar.Nations.unique():\n",
    "    df_team = get_trim_roster(df_no_rar[(df_no_rar.Year == 2026)&(~df_no_rar.Player.isin(rarita_players_26))], i)\n",
    "    df_roster = pd.concat([df_roster,df_team])\n",
    "    \n",
    "team_ratings26 = df_roster.groupby('Nations')['adjust_ovr'].mean().reset_index()\n",
    "\n",
    "team_ratings26 = team_ratings26.sort_values(by = 'adjust_ovr', ascending=False).head(23)\n",
    "team_ratings26.loc[-1] = ['Rarita', 49.214736443899014]\n",
    "team_ratings26 = team_ratings26.reset_index(drop = True)"
   ]
  },
  {
   "cell_type": "code",
   "execution_count": 287,
   "metadata": {
    "collapsed": true
   },
   "outputs": [],
   "source": [
    "rarita_players_27 = lineup_27.Player.to_list()\n",
    "\n",
    "df_roster = pd.DataFrame()\n",
    "\n",
    "for i in df_no_rar.Nations.unique():\n",
    "    df_team = get_trim_roster(df_no_rar[(df_no_rar.Year == 2027)&(~df_no_rar.Player.isin(rarita_players_27))], i)\n",
    "    df_roster = pd.concat([df_roster,df_team])\n",
    "    \n",
    "team_ratings27 = df_roster.groupby('Nations')['adjust_ovr'].mean().reset_index()\n",
    "\n",
    "team_ratings27 = team_ratings27.sort_values(by = 'adjust_ovr', ascending=False).head(23)\n",
    "team_ratings27.loc[-1] = ['Rarita',18.400033180280218]\n",
    "team_ratings27 = team_ratings27.reset_index(drop = True)"
   ]
  },
  {
   "cell_type": "code",
   "execution_count": 303,
   "metadata": {
    "collapsed": true
   },
   "outputs": [],
   "source": [
    "rarita_players_28 = lineup_28.Player.to_list()\n",
    "\n",
    "df_roster = pd.DataFrame()\n",
    "\n",
    "for i in df_no_rar.Nations.unique():\n",
    "    df_team = get_trim_roster(df_no_rar[(df_no_rar.Year == 2028)&(~df_no_rar.Player.isin(rarita_players_28))], i)\n",
    "    df_roster = pd.concat([df_roster,df_team])\n",
    "    \n",
    "team_ratings28 = df_roster.groupby('Nations')['adjust_ovr'].mean().reset_index()\n",
    "\n",
    "team_ratings28 = team_ratings28.sort_values(by = 'adjust_ovr', ascending=False).head(23)\n",
    "team_ratings28.loc[-1] = ['Rarita', 69.05339110064202]\n",
    "team_ratings28 = team_ratings28.reset_index(drop = True)"
   ]
  },
  {
   "cell_type": "code",
   "execution_count": 289,
   "metadata": {
    "collapsed": true
   },
   "outputs": [],
   "source": [
    "rarita_players_29 = lineup_29.Player.to_list()\n",
    "\n",
    "df_roster = pd.DataFrame()\n",
    "\n",
    "for i in df_no_rar.Nations.unique():\n",
    "    df_team = get_trim_roster(df_no_rar[(df_no_rar.Year == 2029)&(~df_no_rar.Player.isin(rarita_players_29))], i)\n",
    "    df_roster = pd.concat([df_roster,df_team])\n",
    "    \n",
    "team_ratings29 = df_roster.groupby('Nations')['adjust_ovr'].mean().reset_index()\n",
    "\n",
    "team_ratings29 = team_ratings29.sort_values(by = 'adjust_ovr', ascending=False).head(23)\n",
    "team_ratings29.loc[-1] = ['Rarita', 25.49137853936236]\n",
    "team_ratings29 = team_ratings29.reset_index(drop = True)"
   ]
  },
  {
   "cell_type": "code",
   "execution_count": null,
   "metadata": {
    "collapsed": true
   },
   "outputs": [],
   "source": []
  },
  {
   "cell_type": "code",
   "execution_count": null,
   "metadata": {
    "collapsed": true
   },
   "outputs": [],
   "source": []
  },
  {
   "cell_type": "code",
   "execution_count": null,
   "metadata": {
    "collapsed": true
   },
   "outputs": [],
   "source": []
  },
  {
   "cell_type": "markdown",
   "metadata": {},
   "source": [
    "# Monte Carlo Projections"
   ]
  },
  {
   "cell_type": "code",
   "execution_count": 305,
   "metadata": {
    "collapsed": true
   },
   "outputs": [],
   "source": [
    "def game_simulate(d, team1, team2):\n",
    "    \n",
    "    if np.random.uniform(0) < 0.3:\n",
    "        return 1\n",
    "\n",
    "    elif np.random.normal(d[team1], 15) > np.random.normal(d[team2], 15) :\n",
    "        return 3\n",
    "\n",
    "    else:\n",
    "        return 0 \n",
    "\n",
    "def game_simulate_elim(d, team1, team2):\n",
    "\n",
    "    if np.random.normal(d[team1], 15) > np.random.normal(d[team2], 15) :\n",
    "        return 3\n",
    "\n",
    "    else:\n",
    "        return 0 \n",
    "    "
   ]
  },
  {
   "cell_type": "code",
   "execution_count": 291,
   "metadata": {
    "collapsed": true
   },
   "outputs": [],
   "source": [
    "def get_round_result(d,group1):\n",
    "\n",
    "    res = {}\n",
    "\n",
    "    for t in group1:\n",
    "        res[t] = []\n",
    "\n",
    "    for i in group1:\n",
    "        for j in group1:\n",
    "            if i != j:\n",
    "                result = game_simulate(d, i,j)\n",
    "                res[i].append(result)\n",
    "                \n",
    "                if result ==3:\n",
    "                    res[j].append(0)\n",
    "                elif result == 1:\n",
    "                    \n",
    "                    res[j].append(1)\n",
    "                else:\n",
    "                    res[j].append(3)\n",
    "                \n",
    "    res = pd.DataFrame(res).sum().reset_index()\n",
    "    res.columns = ['Nations', 'Pts']\n",
    "                \n",
    "    return res\n",
    "\n",
    "def get_round_elim(d, group1):\n",
    "\n",
    "    res = {}\n",
    "\n",
    "    for t in group1:\n",
    "        res[t] = []\n",
    "\n",
    "\n",
    "    result = game_simulate_elim(d, group1[0],group1[1])\n",
    "    res[group1[0]].append(result)\n",
    "    \n",
    "    if result ==3:\n",
    "        res[group1[1]].append(0)\n",
    "\n",
    "    else:\n",
    "        res[group1[1]].append(3)\n",
    "                     \n",
    "    res = pd.DataFrame(res).sum().reset_index()\n",
    "    res.columns = ['Nations', 'Pts']\n",
    "                \n",
    "    return res\n",
    "\n",
    "\n",
    "    \n",
    "    "
   ]
  },
  {
   "cell_type": "code",
   "execution_count": 292,
   "metadata": {
    "collapsed": true
   },
   "outputs": [],
   "source": [
    "def sim_tourn(team_ratings):\n",
    "    d = team_ratings.set_index('Nations')['adjust_ovr'].to_dict()\n",
    "    all_teams = team_ratings.Nations.to_list()\n",
    "\n",
    "    random.shuffle(all_teams)\n",
    "\n",
    "    group1 = all_teams[0:6]\n",
    "    group2 = all_teams[6:12]\n",
    "    group3 = all_teams[12:18]\n",
    "    group4 = all_teams[18:24]\n",
    "\n",
    "    res1 = get_round_result(d, group1).sort_values('Pts', ascending=False)\n",
    "    res2 = get_round_result(d, group2).sort_values('Pts', ascending=False)\n",
    "    res3 = get_round_result(d, group3).sort_values('Pts', ascending=False)\n",
    "    res4 = get_round_result(d, group4).sort_values('Pts', ascending=False)\n",
    "\n",
    "    round1 = pd.concat([res1, res2, res3, res4], axis=0)\n",
    "\n",
    "    res5 = get_round_elim(d, [res1.head(1)['Nations'].values[0], res4.head(1)['Nations'].values[0]]).sort_values('Pts', ascending=False)\n",
    "    res6 = get_round_elim(d, [res2.head(1)['Nations'].values[0], res3.head(1)['Nations'].values[0]]).sort_values('Pts', ascending=False)\n",
    "\n",
    "    round2 = pd.concat([round1, res5, res6], axis=0)\n",
    "\n",
    "    finals = get_round_elim(d, [res5.head(1)['Nations'].values[0], res6.head(1)['Nations'].values[0]]).sort_values('Pts', ascending=False)\n",
    "\n",
    "    result = pd.concat([finals, round2], axis=0)\n",
    "    \n",
    "    result = result.groupby('Nations')['Pts'].sum().reset_index()\n",
    "    \n",
    "    result = result.sort_values('Pts', ascending=False).reset_index(drop = True)\n",
    "    \n",
    "    result['ranking'] = result.index + 1\n",
    "\n",
    "    return result\n"
   ]
  },
  {
   "cell_type": "code",
   "execution_count": 293,
   "metadata": {
    "collapsed": true
   },
   "outputs": [],
   "source": [
    "def get_rarita_ranks(team_ratings, num_sims):\n",
    "    \n",
    "    rs = []\n",
    "    \n",
    "    for i in range(num_sims):\n",
    "        \n",
    "        df = sim_tourn(team_ratings)\n",
    "        \n",
    "        try:\n",
    "        \n",
    "            ranks = df[df.Nations == 'Rarita']['ranking'].values[0]\n",
    "            rs.append(ranks)\n",
    "            \n",
    "        except:\n",
    "            pass\n",
    "        \n",
    "    return rs"
   ]
  },
  {
   "cell_type": "code",
   "execution_count": 294,
   "metadata": {
    "collapsed": true
   },
   "outputs": [],
   "source": [
    "def get_probs(team_ratings, num_sims):\n",
    "    ranks = get_rarita_ranks(team_ratings, num_sims)\n",
    "    \n",
    "    plt.hist(ranks)\n",
    "    plt.show()\n",
    "    \n",
    "    cnts = Counter(ranks)\n",
    "    \n",
    "    df = pd.DataFrame(cnts, index = [1]).T.reset_index()\n",
    "    df.columns = ['ranking', 'num_occ']\n",
    "    \n",
    "    \n",
    "    tot_sims = df['num_occ'].sum()\n",
    "    print('Probability to Win Championship')\n",
    "    r1 = df[df.ranking == 1]['num_occ'].sum()/tot_sims\n",
    "    print(str(r1*100)+'%')\n",
    "    r10 = df[df.ranking <= 10]['num_occ'].sum()/tot_sims\n",
    "    print('Probability to rank inside the Top 10')\n",
    "    print(str(r10*100)+'%')\n",
    "    "
   ]
  },
  {
   "cell_type": "code",
   "execution_count": 306,
   "metadata": {},
   "outputs": [
    {
     "data": {
      "image/png": "[encoded data removed]",
      "text/plain": [
       "<Figure size 1800x720 with 1 Axes>"
      ]
     },
     "metadata": {
      "needs_background": "light"
     },
     "output_type": "display_data"
    },
    {
     "name": "stdout",
     "output_type": "stream",
     "text": [
      "Probability to Win Championship\n",
      "0.0%\n",
      "Probability to rank inside the Top 10\n",
      "0.2%\n"
     ]
    }
   ],
   "source": [
    "get_probs(team_ratings_22, 500)"
   ]
  },
  {
   "cell_type": "code",
   "execution_count": 307,
   "metadata": {},
   "outputs": [
    {
     "data": {
      "image/png": "[encoded data removed]",
      "text/plain": [
       "<Figure size 1800x720 with 1 Axes>"
      ]
     },
     "metadata": {
      "needs_background": "light"
     },
     "output_type": "display_data"
    },
    {
     "name": "stdout",
     "output_type": "stream",
     "text": [
      "Probability to Win Championship\n",
      "0.0%\n",
      "Probability to rank inside the Top 10\n",
      "4.3999999999999995%\n"
     ]
    }
   ],
   "source": [
    "get_probs(team_ratings23, 500)"
   ]
  },
  {
   "cell_type": "code",
   "execution_count": 308,
   "metadata": {},
   "outputs": [
    {
     "data": {
      "image/png": "[encoded data removed]",
      "text/plain": [
       "<Figure size 1800x720 with 1 Axes>"
      ]
     },
     "metadata": {
      "needs_background": "light"
     },
     "output_type": "display_data"
    },
    {
     "name": "stdout",
     "output_type": "stream",
     "text": [
      "Probability to Win Championship\n",
      "0.0%\n",
      "Probability to rank inside the Top 10\n",
      "21.4%\n"
     ]
    }
   ],
   "source": [
    "get_probs(team_ratings24, 500)"
   ]
  },
  {
   "cell_type": "code",
   "execution_count": 309,
   "metadata": {},
   "outputs": [
    {
     "data": {
      "image/png": "[encoded data removed]",
      "text/plain": [
       "<Figure size 1800x720 with 1 Axes>"
      ]
     },
     "metadata": {
      "needs_background": "light"
     },
     "output_type": "display_data"
    },
    {
     "name": "stdout",
     "output_type": "stream",
     "text": [
      "Probability to Win Championship\n",
      "0.2%\n",
      "Probability to rank inside the Top 10\n",
      "14.6%\n"
     ]
    }
   ],
   "source": [
    "get_probs(team_ratings25, 500)"
   ]
  },
  {
   "cell_type": "code",
   "execution_count": 310,
   "metadata": {},
   "outputs": [
    {
     "data": {
      "image/png": "[encoded data removed]",
      "text/plain": [
       "<Figure size 1800x720 with 1 Axes>"
      ]
     },
     "metadata": {
      "needs_background": "light"
     },
     "output_type": "display_data"
    },
    {
     "name": "stdout",
     "output_type": "stream",
     "text": [
      "Probability to Win Championship\n",
      "1.2%\n",
      "Probability to rank inside the Top 10\n",
      "18.6%\n"
     ]
    }
   ],
   "source": [
    "get_probs(team_ratings26, 500)"
   ]
  },
  {
   "cell_type": "code",
   "execution_count": 311,
   "metadata": {},
   "outputs": [
    {
     "data": {
      "text/html": [
       "<div>\n",
       "<style scoped>\n",
       "    .dataframe tbody tr th:only-of-type {\n",
       "        vertical-align: middle;\n",
       "    }\n",
       "\n",
       "    .dataframe tbody tr th {\n",
       "        vertical-align: top;\n",
       "    }\n",
       "\n",
       "    .dataframe thead th {\n",
       "        text-align: right;\n",
       "    }\n",
       "</style>\n",
       "<table border=\"1\" class=\"dataframe\">\n",
       "  <thead>\n",
       "    <tr style=\"text-align: right;\">\n",
       "      <th></th>\n",
       "      <th>Nations</th>\n",
       "      <th>adjust_ovr</th>\n",
       "    </tr>\n",
       "  </thead>\n",
       "  <tbody>\n",
       "    <tr>\n",
       "      <th>0</th>\n",
       "      <td>Sobianitedrucy</td>\n",
       "      <td>66.079054</td>\n",
       "    </tr>\n",
       "    <tr>\n",
       "      <th>1</th>\n",
       "      <td>Nganion</td>\n",
       "      <td>61.630505</td>\n",
       "    </tr>\n",
       "    <tr>\n",
       "      <th>2</th>\n",
       "      <td>Esia</td>\n",
       "      <td>58.554725</td>\n",
       "    </tr>\n",
       "    <tr>\n",
       "      <th>3</th>\n",
       "      <td>Manlisgamncent</td>\n",
       "      <td>58.266414</td>\n",
       "    </tr>\n",
       "    <tr>\n",
       "      <th>4</th>\n",
       "      <td>Byasier Pujan</td>\n",
       "      <td>57.434276</td>\n",
       "    </tr>\n",
       "    <tr>\n",
       "      <th>5</th>\n",
       "      <td>Bernepamar</td>\n",
       "      <td>57.318870</td>\n",
       "    </tr>\n",
       "    <tr>\n",
       "      <th>6</th>\n",
       "      <td>Dosqaly</td>\n",
       "      <td>57.277469</td>\n",
       "    </tr>\n",
       "    <tr>\n",
       "      <th>7</th>\n",
       "      <td>Eastern Sleboube</td>\n",
       "      <td>57.137508</td>\n",
       "    </tr>\n",
       "    <tr>\n",
       "      <th>8</th>\n",
       "      <td>Leoneku Guidisia</td>\n",
       "      <td>56.652904</td>\n",
       "    </tr>\n",
       "    <tr>\n",
       "      <th>9</th>\n",
       "      <td>Nkasland Cronestan</td>\n",
       "      <td>56.395319</td>\n",
       "    </tr>\n",
       "    <tr>\n",
       "      <th>10</th>\n",
       "      <td>Imaar Vircoand</td>\n",
       "      <td>56.289008</td>\n",
       "    </tr>\n",
       "    <tr>\n",
       "      <th>11</th>\n",
       "      <td>Greri Landmoslands</td>\n",
       "      <td>56.207664</td>\n",
       "    </tr>\n",
       "    <tr>\n",
       "      <th>12</th>\n",
       "      <td>Djipines</td>\n",
       "      <td>55.927328</td>\n",
       "    </tr>\n",
       "    <tr>\n",
       "      <th>13</th>\n",
       "      <td>Xikong</td>\n",
       "      <td>55.644794</td>\n",
       "    </tr>\n",
       "    <tr>\n",
       "      <th>14</th>\n",
       "      <td>Ledian</td>\n",
       "      <td>55.577164</td>\n",
       "    </tr>\n",
       "    <tr>\n",
       "      <th>15</th>\n",
       "      <td>Galamily</td>\n",
       "      <td>55.476417</td>\n",
       "    </tr>\n",
       "    <tr>\n",
       "      <th>16</th>\n",
       "      <td>Varijitri Isles</td>\n",
       "      <td>55.164636</td>\n",
       "    </tr>\n",
       "    <tr>\n",
       "      <th>17</th>\n",
       "      <td>New Uwi</td>\n",
       "      <td>54.726497</td>\n",
       "    </tr>\n",
       "    <tr>\n",
       "      <th>18</th>\n",
       "      <td>Giumle Lizeibon</td>\n",
       "      <td>54.598850</td>\n",
       "    </tr>\n",
       "    <tr>\n",
       "      <th>19</th>\n",
       "      <td>Eastern Niasland</td>\n",
       "      <td>54.062193</td>\n",
       "    </tr>\n",
       "    <tr>\n",
       "      <th>20</th>\n",
       "      <td>Mico</td>\n",
       "      <td>53.951607</td>\n",
       "    </tr>\n",
       "    <tr>\n",
       "      <th>21</th>\n",
       "      <td>Rosvi</td>\n",
       "      <td>53.536383</td>\n",
       "    </tr>\n",
       "    <tr>\n",
       "      <th>22</th>\n",
       "      <td>People's Land of Maneau</td>\n",
       "      <td>53.522452</td>\n",
       "    </tr>\n",
       "    <tr>\n",
       "      <th>23</th>\n",
       "      <td>Rarita</td>\n",
       "      <td>48.906000</td>\n",
       "    </tr>\n",
       "  </tbody>\n",
       "</table>\n",
       "</div>"
      ],
      "text/plain": [
       "                    Nations  adjust_ovr\n",
       "0            Sobianitedrucy   66.079054\n",
       "1                   Nganion   61.630505\n",
       "2                      Esia   58.554725\n",
       "3            Manlisgamncent   58.266414\n",
       "4             Byasier Pujan   57.434276\n",
       "5                Bernepamar   57.318870\n",
       "6                   Dosqaly   57.277469\n",
       "7          Eastern Sleboube   57.137508\n",
       "8          Leoneku Guidisia   56.652904\n",
       "9        Nkasland Cronestan   56.395319\n",
       "10           Imaar Vircoand   56.289008\n",
       "11       Greri Landmoslands   56.207664\n",
       "12                 Djipines   55.927328\n",
       "13                   Xikong   55.644794\n",
       "14                   Ledian   55.577164\n",
       "15                 Galamily   55.476417\n",
       "16          Varijitri Isles   55.164636\n",
       "17                  New Uwi   54.726497\n",
       "18          Giumle Lizeibon   54.598850\n",
       "19         Eastern Niasland   54.062193\n",
       "20                     Mico   53.951607\n",
       "21                    Rosvi   53.536383\n",
       "22  People's Land of Maneau   53.522452\n",
       "23                   Rarita   48.906000"
      ]
     },
     "execution_count": 311,
     "metadata": {},
     "output_type": "execute_result"
    }
   ],
   "source": [
    "team_ratings25.sort_values(by = 'adjust_ovr', ascending = False)"
   ]
  },
  {
   "cell_type": "code",
   "execution_count": 312,
   "metadata": {},
   "outputs": [
    {
     "data": {
      "image/png": "[encoded data removed]",
      "text/plain": [
       "<Figure size 1800x720 with 1 Axes>"
      ]
     },
     "metadata": {
      "needs_background": "light"
     },
     "output_type": "display_data"
    },
    {
     "name": "stdout",
     "output_type": "stream",
     "text": [
      "Probability to Win Championship\n",
      "0.0%\n",
      "Probability to rank inside the Top 10\n",
      "0.0%\n"
     ]
    }
   ],
   "source": [
    "get_probs(team_ratings27, 500)"
   ]
  },
  {
   "cell_type": "code",
   "execution_count": 313,
   "metadata": {},
   "outputs": [
    {
     "data": {
      "image/png": "[encoded data removed]",
      "text/plain": [
       "<Figure size 1800x720 with 1 Axes>"
      ]
     },
     "metadata": {
      "needs_background": "light"
     },
     "output_type": "display_data"
    },
    {
     "name": "stdout",
     "output_type": "stream",
     "text": [
      "Probability to Win Championship\n",
      "13.8%\n",
      "Probability to rank inside the Top 10\n",
      "68.8%\n"
     ]
    }
   ],
   "source": [
    "get_probs(team_ratings28, 500)"
   ]
  },
  {
   "cell_type": "code",
   "execution_count": 314,
   "metadata": {},
   "outputs": [
    {
     "data": {
      "image/png": "[encoded data removed]",
      "text/plain": [
       "<Figure size 1800x720 with 1 Axes>"
      ]
     },
     "metadata": {
      "needs_background": "light"
     },
     "output_type": "display_data"
    },
    {
     "name": "stdout",
     "output_type": "stream",
     "text": [
      "Probability to Win Championship\n",
      "0.0%\n",
      "Probability to rank inside the Top 10\n",
      "0.0%\n"
     ]
    }
   ],
   "source": [
    "get_probs(team_ratings29, 500)"
   ]
  },
  {
   "cell_type": "code",
   "execution_count": null,
   "metadata": {
    "collapsed": true
   },
   "outputs": [],
   "source": []
  },
  {
   "cell_type": "code",
   "execution_count": 315,
   "metadata": {},
   "outputs": [
    {
     "data": {
      "text/html": [
       "<div>\n",
       "<style scoped>\n",
       "    .dataframe tbody tr th:only-of-type {\n",
       "        vertical-align: middle;\n",
       "    }\n",
       "\n",
       "    .dataframe tbody tr th {\n",
       "        vertical-align: top;\n",
       "    }\n",
       "\n",
       "    .dataframe thead th {\n",
       "        text-align: right;\n",
       "    }\n",
       "</style>\n",
       "<table border=\"1\" class=\"dataframe\">\n",
       "  <thead>\n",
       "    <tr style=\"text-align: right;\">\n",
       "      <th></th>\n",
       "      <th>Unnamed: 0</th>\n",
       "      <th>Player</th>\n",
       "      <th>Nations</th>\n",
       "      <th>Salary</th>\n",
       "      <th>Squads</th>\n",
       "      <th>Positions</th>\n",
       "      <th>Leagues</th>\n",
       "      <th>Age</th>\n",
       "      <th>time</th>\n",
       "      <th>goals</th>\n",
       "      <th>...</th>\n",
       "      <th>err</th>\n",
       "      <th>d1</th>\n",
       "      <th>sv</th>\n",
       "      <th>w</th>\n",
       "      <th>d</th>\n",
       "      <th>churn</th>\n",
       "      <th>Year</th>\n",
       "      <th>eff</th>\n",
       "      <th>adjust_ovr</th>\n",
       "      <th>test</th>\n",
       "    </tr>\n",
       "  </thead>\n",
       "  <tbody>\n",
       "    <tr>\n",
       "      <th>6573</th>\n",
       "      <td>75</td>\n",
       "      <td>ANamataka</td>\n",
       "      <td>Dosqaly</td>\n",
       "      <td>11636680.0</td>\n",
       "      <td>Mean Colts</td>\n",
       "      <td>DF</td>\n",
       "      <td>B</td>\n",
       "      <td>21</td>\n",
       "      <td>0.097200</td>\n",
       "      <td>0.108000</td>\n",
       "      <td>...</td>\n",
       "      <td>0.054000</td>\n",
       "      <td>0.032400</td>\n",
       "      <td>0.000000</td>\n",
       "      <td>0.000000</td>\n",
       "      <td>0.000000</td>\n",
       "      <td>0.0</td>\n",
       "      <td>2022</td>\n",
       "      <td>0.100372</td>\n",
       "      <td>33.688630</td>\n",
       "      <td>5.676603</td>\n",
       "    </tr>\n",
       "    <tr>\n",
       "      <th>6794</th>\n",
       "      <td>297</td>\n",
       "      <td>CLeroy</td>\n",
       "      <td>People's Land of Maneau</td>\n",
       "      <td>9258040.0</td>\n",
       "      <td>Silver Heels</td>\n",
       "      <td>GK</td>\n",
       "      <td>A</td>\n",
       "      <td>28</td>\n",
       "      <td>0.975200</td>\n",
       "      <td>0.000000</td>\n",
       "      <td>...</td>\n",
       "      <td>-0.009200</td>\n",
       "      <td>-0.092000</td>\n",
       "      <td>55.172400</td>\n",
       "      <td>0.984400</td>\n",
       "      <td>0.046000</td>\n",
       "      <td>0.0</td>\n",
       "      <td>2022</td>\n",
       "      <td>0.210342</td>\n",
       "      <td>38.194973</td>\n",
       "      <td>5.817975</td>\n",
       "    </tr>\n",
       "    <tr>\n",
       "      <th>7004</th>\n",
       "      <td>508</td>\n",
       "      <td>EBecker</td>\n",
       "      <td>Central Namemo Laand</td>\n",
       "      <td>36822280.0</td>\n",
       "      <td>Simple Privateers</td>\n",
       "      <td>MFDF</td>\n",
       "      <td>B</td>\n",
       "      <td>19</td>\n",
       "      <td>0.950400</td>\n",
       "      <td>0.097200</td>\n",
       "      <td>...</td>\n",
       "      <td>0.075600</td>\n",
       "      <td>-0.086400</td>\n",
       "      <td>0.000000</td>\n",
       "      <td>0.000000</td>\n",
       "      <td>0.000000</td>\n",
       "      <td>0.0</td>\n",
       "      <td>2022</td>\n",
       "      <td>0.106498</td>\n",
       "      <td>39.970905</td>\n",
       "      <td>5.873690</td>\n",
       "    </tr>\n",
       "    <tr>\n",
       "      <th>7245</th>\n",
       "      <td>749</td>\n",
       "      <td>GChee</td>\n",
       "      <td>Deshslands Landdenhai</td>\n",
       "      <td>10050920.0</td>\n",
       "      <td>Awkward Trailblazers</td>\n",
       "      <td>FW</td>\n",
       "      <td>C</td>\n",
       "      <td>21</td>\n",
       "      <td>0.105000</td>\n",
       "      <td>-0.063000</td>\n",
       "      <td>...</td>\n",
       "      <td>0.052500</td>\n",
       "      <td>0.052500</td>\n",
       "      <td>0.000000</td>\n",
       "      <td>0.000000</td>\n",
       "      <td>0.000000</td>\n",
       "      <td>0.0</td>\n",
       "      <td>2022</td>\n",
       "      <td>-0.081435</td>\n",
       "      <td>37.292900</td>\n",
       "      <td>5.789675</td>\n",
       "    </tr>\n",
       "    <tr>\n",
       "      <th>7805</th>\n",
       "      <td>1310</td>\n",
       "      <td>KNakazzi</td>\n",
       "      <td>Dosqaly</td>\n",
       "      <td>30479240.0</td>\n",
       "      <td>Unethical Comets</td>\n",
       "      <td>MF</td>\n",
       "      <td>B</td>\n",
       "      <td>19</td>\n",
       "      <td>0.210000</td>\n",
       "      <td>0.094500</td>\n",
       "      <td>...</td>\n",
       "      <td>20.968500</td>\n",
       "      <td>-0.073500</td>\n",
       "      <td>0.000000</td>\n",
       "      <td>0.000000</td>\n",
       "      <td>0.000000</td>\n",
       "      <td>0.0</td>\n",
       "      <td>2022</td>\n",
       "      <td>0.154142</td>\n",
       "      <td>39.969398</td>\n",
       "      <td>5.873642</td>\n",
       "    </tr>\n",
       "    <tr>\n",
       "      <th>8708</th>\n",
       "      <td>2213</td>\n",
       "      <td>UKaahwa</td>\n",
       "      <td>People's Land of Maneau</td>\n",
       "      <td>16860360.0</td>\n",
       "      <td>Green Fleet</td>\n",
       "      <td>DF</td>\n",
       "      <td>A</td>\n",
       "      <td>18</td>\n",
       "      <td>-0.054000</td>\n",
       "      <td>0.043200</td>\n",
       "      <td>...</td>\n",
       "      <td>-0.043200</td>\n",
       "      <td>-0.054000</td>\n",
       "      <td>0.000000</td>\n",
       "      <td>0.000000</td>\n",
       "      <td>0.000000</td>\n",
       "      <td>0.0</td>\n",
       "      <td>2022</td>\n",
       "      <td>0.074792</td>\n",
       "      <td>40.965285</td>\n",
       "      <td>5.904885</td>\n",
       "    </tr>\n",
       "    <tr>\n",
       "      <th>8857</th>\n",
       "      <td>2363</td>\n",
       "      <td>WDufour</td>\n",
       "      <td>Nganion</td>\n",
       "      <td>17373400.0</td>\n",
       "      <td>Hideous Spiders</td>\n",
       "      <td>FW</td>\n",
       "      <td>E</td>\n",
       "      <td>22</td>\n",
       "      <td>0.504000</td>\n",
       "      <td>-0.042000</td>\n",
       "      <td>...</td>\n",
       "      <td>2.068500</td>\n",
       "      <td>-0.010500</td>\n",
       "      <td>0.000000</td>\n",
       "      <td>0.000000</td>\n",
       "      <td>0.000000</td>\n",
       "      <td>0.0</td>\n",
       "      <td>2022</td>\n",
       "      <td>-0.032621</td>\n",
       "      <td>44.918090</td>\n",
       "      <td>6.028892</td>\n",
       "    </tr>\n",
       "    <tr>\n",
       "      <th>9044</th>\n",
       "      <td>2550</td>\n",
       "      <td>YMutema</td>\n",
       "      <td>Nganion</td>\n",
       "      <td>2798400.0</td>\n",
       "      <td>Flawless Cows</td>\n",
       "      <td>FW</td>\n",
       "      <td>B</td>\n",
       "      <td>28</td>\n",
       "      <td>0.380000</td>\n",
       "      <td>-0.040000</td>\n",
       "      <td>...</td>\n",
       "      <td>-0.050000</td>\n",
       "      <td>0.050000</td>\n",
       "      <td>0.000000</td>\n",
       "      <td>0.000000</td>\n",
       "      <td>0.000000</td>\n",
       "      <td>0.0</td>\n",
       "      <td>2022</td>\n",
       "      <td>-0.097436</td>\n",
       "      <td>44.263192</td>\n",
       "      <td>6.008347</td>\n",
       "    </tr>\n",
       "    <tr>\n",
       "      <th>9388</th>\n",
       "      <td>21</td>\n",
       "      <td>EricWolfe</td>\n",
       "      <td>Eastern Niasland</td>\n",
       "      <td>17564820.9</td>\n",
       "      <td>Tournament</td>\n",
       "      <td>FWMF</td>\n",
       "      <td>Tournament</td>\n",
       "      <td>21</td>\n",
       "      <td>-8.487838</td>\n",
       "      <td>-0.341817</td>\n",
       "      <td>...</td>\n",
       "      <td>3.187716</td>\n",
       "      <td>0.079930</td>\n",
       "      <td>31.975941</td>\n",
       "      <td>-0.124037</td>\n",
       "      <td>-0.101765</td>\n",
       "      <td>0.0</td>\n",
       "      <td>2022</td>\n",
       "      <td>-0.041960</td>\n",
       "      <td>44.150889</td>\n",
       "      <td>6.004823</td>\n",
       "    </tr>\n",
       "    <tr>\n",
       "      <th>9459</th>\n",
       "      <td>93</td>\n",
       "      <td>BernardCruz</td>\n",
       "      <td>Eastern Niasland</td>\n",
       "      <td>38937808.8</td>\n",
       "      <td>Tournament</td>\n",
       "      <td>DFFW</td>\n",
       "      <td>Tournament</td>\n",
       "      <td>21</td>\n",
       "      <td>8.212384</td>\n",
       "      <td>-0.385920</td>\n",
       "      <td>...</td>\n",
       "      <td>2.312703</td>\n",
       "      <td>0.012188</td>\n",
       "      <td>26.896190</td>\n",
       "      <td>0.030844</td>\n",
       "      <td>-0.079472</td>\n",
       "      <td>0.0</td>\n",
       "      <td>2022</td>\n",
       "      <td>-0.193405</td>\n",
       "      <td>35.207808</td>\n",
       "      <td>5.724262</td>\n",
       "    </tr>\n",
       "  </tbody>\n",
       "</table>\n",
       "<p>10 rows × 27 columns</p>\n",
       "</div>"
      ],
      "text/plain": [
       "      Unnamed: 0       Player                  Nations      Salary  \\\n",
       "6573          75    ANamataka                  Dosqaly  11636680.0   \n",
       "6794         297       CLeroy  People's Land of Maneau   9258040.0   \n",
       "7004         508      EBecker     Central Namemo Laand  36822280.0   \n",
       "7245         749        GChee    Deshslands Landdenhai  10050920.0   \n",
       "7805        1310     KNakazzi                  Dosqaly  30479240.0   \n",
       "8708        2213      UKaahwa  People's Land of Maneau  16860360.0   \n",
       "8857        2363      WDufour                  Nganion  17373400.0   \n",
       "9044        2550      YMutema                  Nganion   2798400.0   \n",
       "9388          21    EricWolfe         Eastern Niasland  17564820.9   \n",
       "9459          93  BernardCruz         Eastern Niasland  38937808.8   \n",
       "\n",
       "                    Squads Positions     Leagues  Age      time     goals  \\\n",
       "6573            Mean Colts        DF           B   21  0.097200  0.108000   \n",
       "6794          Silver Heels        GK           A   28  0.975200  0.000000   \n",
       "7004     Simple Privateers      MFDF           B   19  0.950400  0.097200   \n",
       "7245  Awkward Trailblazers        FW           C   21  0.105000 -0.063000   \n",
       "7805      Unethical Comets        MF           B   19  0.210000  0.094500   \n",
       "8708           Green Fleet        DF           A   18 -0.054000  0.043200   \n",
       "8857       Hideous Spiders        FW           E   22  0.504000 -0.042000   \n",
       "9044         Flawless Cows        FW           B   28  0.380000 -0.040000   \n",
       "9388            Tournament      FWMF  Tournament   21 -8.487838 -0.341817   \n",
       "9459            Tournament      DFFW  Tournament   21  8.212384 -0.385920   \n",
       "\n",
       "      ...        err        d1         sv         w         d  churn  Year  \\\n",
       "6573  ...   0.054000  0.032400   0.000000  0.000000  0.000000    0.0  2022   \n",
       "6794  ...  -0.009200 -0.092000  55.172400  0.984400  0.046000    0.0  2022   \n",
       "7004  ...   0.075600 -0.086400   0.000000  0.000000  0.000000    0.0  2022   \n",
       "7245  ...   0.052500  0.052500   0.000000  0.000000  0.000000    0.0  2022   \n",
       "7805  ...  20.968500 -0.073500   0.000000  0.000000  0.000000    0.0  2022   \n",
       "8708  ...  -0.043200 -0.054000   0.000000  0.000000  0.000000    0.0  2022   \n",
       "8857  ...   2.068500 -0.010500   0.000000  0.000000  0.000000    0.0  2022   \n",
       "9044  ...  -0.050000  0.050000   0.000000  0.000000  0.000000    0.0  2022   \n",
       "9388  ...   3.187716  0.079930  31.975941 -0.124037 -0.101765    0.0  2022   \n",
       "9459  ...   2.312703  0.012188  26.896190  0.030844 -0.079472    0.0  2022   \n",
       "\n",
       "           eff  adjust_ovr      test  \n",
       "6573  0.100372   33.688630  5.676603  \n",
       "6794  0.210342   38.194973  5.817975  \n",
       "7004  0.106498   39.970905  5.873690  \n",
       "7245 -0.081435   37.292900  5.789675  \n",
       "7805  0.154142   39.969398  5.873642  \n",
       "8708  0.074792   40.965285  5.904885  \n",
       "8857 -0.032621   44.918090  6.028892  \n",
       "9044 -0.097436   44.263192  6.008347  \n",
       "9388 -0.041960   44.150889  6.004823  \n",
       "9459 -0.193405   35.207808  5.724262  \n",
       "\n",
       "[10 rows x 27 columns]"
      ]
     },
     "execution_count": 315,
     "metadata": {},
     "output_type": "execute_result"
    }
   ],
   "source": [
    "lineup_22"
   ]
  },
  {
   "cell_type": "code",
   "execution_count": 319,
   "metadata": {},
   "outputs": [
    {
     "data": {
      "text/html": [
       "<div>\n",
       "<style scoped>\n",
       "    .dataframe tbody tr th:only-of-type {\n",
       "        vertical-align: middle;\n",
       "    }\n",
       "\n",
       "    .dataframe tbody tr th {\n",
       "        vertical-align: top;\n",
       "    }\n",
       "\n",
       "    .dataframe thead th {\n",
       "        text-align: right;\n",
       "    }\n",
       "</style>\n",
       "<table border=\"1\" class=\"dataframe\">\n",
       "  <thead>\n",
       "    <tr style=\"text-align: right;\">\n",
       "      <th></th>\n",
       "      <th>Nations</th>\n",
       "      <th>adjust_ovr</th>\n",
       "    </tr>\n",
       "  </thead>\n",
       "  <tbody>\n",
       "    <tr>\n",
       "      <th>0</th>\n",
       "      <td>Sobianitedrucy</td>\n",
       "      <td>69.717123</td>\n",
       "    </tr>\n",
       "    <tr>\n",
       "      <th>1</th>\n",
       "      <td>Dosqaly</td>\n",
       "      <td>68.263445</td>\n",
       "    </tr>\n",
       "    <tr>\n",
       "      <th>2</th>\n",
       "      <td>Nganion</td>\n",
       "      <td>67.003031</td>\n",
       "    </tr>\n",
       "    <tr>\n",
       "      <th>3</th>\n",
       "      <td>Byasier Pujan</td>\n",
       "      <td>65.105226</td>\n",
       "    </tr>\n",
       "    <tr>\n",
       "      <th>4</th>\n",
       "      <td>Eastern Sleboube</td>\n",
       "      <td>63.636993</td>\n",
       "    </tr>\n",
       "    <tr>\n",
       "      <th>5</th>\n",
       "      <td>Esia</td>\n",
       "      <td>63.408755</td>\n",
       "    </tr>\n",
       "    <tr>\n",
       "      <th>6</th>\n",
       "      <td>Leoneku Guidisia</td>\n",
       "      <td>62.882165</td>\n",
       "    </tr>\n",
       "    <tr>\n",
       "      <th>7</th>\n",
       "      <td>Nkasland Cronestan</td>\n",
       "      <td>62.733334</td>\n",
       "    </tr>\n",
       "    <tr>\n",
       "      <th>8</th>\n",
       "      <td>Bernepamar</td>\n",
       "      <td>62.620220</td>\n",
       "    </tr>\n",
       "    <tr>\n",
       "      <th>9</th>\n",
       "      <td>Ngoque Blicri</td>\n",
       "      <td>62.156817</td>\n",
       "    </tr>\n",
       "    <tr>\n",
       "      <th>10</th>\n",
       "      <td>Eastern Niasland</td>\n",
       "      <td>62.111800</td>\n",
       "    </tr>\n",
       "    <tr>\n",
       "      <th>11</th>\n",
       "      <td>Galamily</td>\n",
       "      <td>62.068376</td>\n",
       "    </tr>\n",
       "    <tr>\n",
       "      <th>12</th>\n",
       "      <td>Ledian</td>\n",
       "      <td>61.901814</td>\n",
       "    </tr>\n",
       "    <tr>\n",
       "      <th>13</th>\n",
       "      <td>Manlisgamncent</td>\n",
       "      <td>61.392490</td>\n",
       "    </tr>\n",
       "    <tr>\n",
       "      <th>14</th>\n",
       "      <td>Djipines</td>\n",
       "      <td>61.283125</td>\n",
       "    </tr>\n",
       "    <tr>\n",
       "      <th>15</th>\n",
       "      <td>Greri Landmoslands</td>\n",
       "      <td>61.014190</td>\n",
       "    </tr>\n",
       "    <tr>\n",
       "      <th>16</th>\n",
       "      <td>New Uwi</td>\n",
       "      <td>60.938633</td>\n",
       "    </tr>\n",
       "    <tr>\n",
       "      <th>17</th>\n",
       "      <td>Imaar Vircoand</td>\n",
       "      <td>60.891326</td>\n",
       "    </tr>\n",
       "    <tr>\n",
       "      <th>18</th>\n",
       "      <td>Xikong</td>\n",
       "      <td>60.623238</td>\n",
       "    </tr>\n",
       "    <tr>\n",
       "      <th>19</th>\n",
       "      <td>Rosvi</td>\n",
       "      <td>60.138631</td>\n",
       "    </tr>\n",
       "    <tr>\n",
       "      <th>20</th>\n",
       "      <td>Mico</td>\n",
       "      <td>59.706841</td>\n",
       "    </tr>\n",
       "    <tr>\n",
       "      <th>21</th>\n",
       "      <td>People's Land of Maneau</td>\n",
       "      <td>59.668806</td>\n",
       "    </tr>\n",
       "    <tr>\n",
       "      <th>22</th>\n",
       "      <td>Giumle Lizeibon</td>\n",
       "      <td>59.405609</td>\n",
       "    </tr>\n",
       "    <tr>\n",
       "      <th>23</th>\n",
       "      <td>Rarita</td>\n",
       "      <td>18.400033</td>\n",
       "    </tr>\n",
       "  </tbody>\n",
       "</table>\n",
       "</div>"
      ],
      "text/plain": [
       "                    Nations  adjust_ovr\n",
       "0            Sobianitedrucy   69.717123\n",
       "1                   Dosqaly   68.263445\n",
       "2                   Nganion   67.003031\n",
       "3             Byasier Pujan   65.105226\n",
       "4          Eastern Sleboube   63.636993\n",
       "5                      Esia   63.408755\n",
       "6          Leoneku Guidisia   62.882165\n",
       "7        Nkasland Cronestan   62.733334\n",
       "8                Bernepamar   62.620220\n",
       "9             Ngoque Blicri   62.156817\n",
       "10         Eastern Niasland   62.111800\n",
       "11                 Galamily   62.068376\n",
       "12                   Ledian   61.901814\n",
       "13           Manlisgamncent   61.392490\n",
       "14                 Djipines   61.283125\n",
       "15       Greri Landmoslands   61.014190\n",
       "16                  New Uwi   60.938633\n",
       "17           Imaar Vircoand   60.891326\n",
       "18                   Xikong   60.623238\n",
       "19                    Rosvi   60.138631\n",
       "20                     Mico   59.706841\n",
       "21  People's Land of Maneau   59.668806\n",
       "22          Giumle Lizeibon   59.405609\n",
       "23                   Rarita   18.400033"
      ]
     },
     "execution_count": 319,
     "metadata": {},
     "output_type": "execute_result"
    }
   ],
   "source": [
    "team_ratings27.sort_values(by = 'adjust_ovr', ascending = False)"
   ]
  },
  {
   "cell_type": "code",
   "execution_count": null,
   "metadata": {
    "collapsed": true
   },
   "outputs": [],
   "source": []
  },
  {
   "cell_type": "code",
   "execution_count": null,
   "metadata": {
    "collapsed": true
   },
   "outputs": [],
   "source": []
  },
  {
   "cell_type": "code",
   "execution_count": null,
   "metadata": {
    "collapsed": true
   },
   "outputs": [],
   "source": []
  },
  {
   "cell_type": "code",
   "execution_count": null,
   "metadata": {
    "collapsed": true
   },
   "outputs": [],
   "source": []
  },
  {
   "cell_type": "code",
   "execution_count": null,
   "metadata": {
    "collapsed": true
   },
   "outputs": [],
   "source": []
  }
 ],
 "metadata": {
  "kernelspec": {
   "display_name": "Python 3",
   "language": "python",
   "name": "python3"
  },
  "language_info": {
   "codemirror_mode": {
    "name": "ipython",
    "version": 3
   },
   "file_extension": ".py",
   "mimetype": "text/x-python",
   "name": "python",
   "nbconvert_exporter": "python",
   "pygments_lexer": "ipython3",
   "version": "3.6.3"
  }
 },
 "nbformat": 4,
 "nbformat_minor": 5
}
